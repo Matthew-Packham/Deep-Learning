{
 "cells": [
  {
   "cell_type": "markdown",
   "metadata": {},
   "source": [
    "## Automatic differentiation in TensorFlow\n",
    "\n",
    "One of the major advantages of using deep learning frameworks like TensorFlow is the ability to automatically compute gradients of any differentiable operation. When using the Keras `model.fit` API, TensorFlow applies the backpropagation equations automatically to compute gradients, and then uses the optimiser algorithm selected to update the parameters.\n",
    "\n",
    "In this notebook I use lower-level tools in TensorFlow to compute gradients of differentiable expressions instead, and build a custom training loop that breaks down the training loop to give extra flexibility and control."
   ]
  },
  {
   "cell_type": "code",
   "execution_count": 1,
   "metadata": {},
   "outputs": [],
   "source": [
    "import tensorflow as tf"
   ]
  },
  {
   "cell_type": "markdown",
   "metadata": {},
   "source": [
    "Operations that we want to take gradients with respect to, need to be defined inside a `tf.GradientTape` context as Tape. Think of Tape as a Tape recorder which tracks all the functions and vairables! The Tape recoreder needs to be del after! "
   ]
  },
  {
   "cell_type": "markdown",
   "metadata": {},
   "source": [
    "#### Simple differentation"
   ]
  },
  {
   "cell_type": "code",
   "execution_count": 2,
   "metadata": {},
   "outputs": [
    {
     "data": {
      "text/plain": [
       "<tf.Tensor: shape=(), dtype=float32, numpy=191.0>"
      ]
     },
     "execution_count": 2,
     "metadata": {},
     "output_type": "execute_result"
    }
   ],
   "source": [
    "x = tf.constant(4.)\n",
    "\n",
    "with tf.GradientTape() as Tape:\n",
    "    \n",
    "    #we want to track all operations on x. use tape.watch\n",
    "    Tape.watch(x)\n",
    "    \n",
    "    #define function\n",
    "    y = 4 * x ** 3 - x\n",
    "    \n",
    "#now lets calculate the derivative\n",
    "\n",
    "dydx = Tape.gradient(y, x)\n",
    "dydx\n",
    "\n",
    "#lets confirm calculation dy/dx = 4*3*x**2 - 1 where x=4"
   ]
  },
  {
   "cell_type": "markdown",
   "metadata": {},
   "source": [
    "#### Multiple derivatives"
   ]
  },
  {
   "cell_type": "code",
   "execution_count": 3,
   "metadata": {},
   "outputs": [
    {
     "name": "stdout",
     "output_type": "stream",
     "text": [
      "tf.Tensor(\n",
      "[[ 4.  8.]\n",
      " [12. 16.]], shape=(2, 2), dtype=float32)\n",
      "\n",
      "tf.Tensor([1. 1.], shape=(2,), dtype=float32)\n"
     ]
    }
   ],
   "source": [
    "x = tf.constant([[1.,2.], [3.,4.]])\n",
    "y= tf.constant([5., 6.])\n",
    "\n",
    "\n",
    "with tf.GradientTape() as Tape:\n",
    "    Tape.watch([x, y])\n",
    "    \n",
    "    # vairables in our function\n",
    "    a = tf.constant(4.)\n",
    "    \n",
    "    #define function\n",
    "    z = tf.reduce_mean(x**2, axis=0) * a + y \n",
    "    # x is (2,2). therefore reduce_mean will take the mean down axis z (row down dirn) making it at (1,2)!\n",
    "    \n",
    "dzdx, dzdy = Tape.gradient(z, [x,y])\n",
    "print(dzdx, end=2*'\\n')\n",
    "print(dzdy)\n",
    "\n",
    "#lets check calulation: dzdx = x*a (as 2's cancel) - remember its computed element-wise so will be same dim as x\n",
    "                     #  dzdy = 1 (diff of y) - again elm wise so will be same dim as y \n"
   ]
  },
  {
   "cell_type": "markdown",
   "metadata": {},
   "source": [
    "#### Multiple derivatives - persistant=True"
   ]
  },
  {
   "cell_type": "code",
   "execution_count": 4,
   "metadata": {},
   "outputs": [
    {
     "name": "stdout",
     "output_type": "stream",
     "text": [
      "tf.Tensor(\n",
      "[[-0.13580549  0.1045989 ]\n",
      " [-0.65929776 -0.43530208]], shape=(2, 2), dtype=float32)\n",
      "\n",
      "tf.Tensor(\n",
      "[[-0.25135094 -0.25135094]\n",
      " [ 0.6659624   0.6659624 ]], shape=(2, 2), dtype=float32)\n",
      "\n",
      "tf.Tensor([-0.11752391 -0.73255473], shape=(2,), dtype=float32)\n"
     ]
    }
   ],
   "source": [
    "x = tf.constant([[1.,2.], [3.,4.]])\n",
    "\n",
    "#persistent=True in order to save multiple derivatives \n",
    "with tf.GradientTape(persistent=True) as Tape:\n",
    "    Tape.watch(x)\n",
    "    \n",
    "    #define the vairables/functions used in function\n",
    "    a = tf.random.normal((3,2))\n",
    "    y = tf.math.sin(x)\n",
    "\n",
    "    #define function\n",
    "    z = tf.reduce_mean(tf.linalg.matmul(a, y), axis=0) # x is (2,2) therefore y is (2,2). a is (3,2) thus must be a @ y!\n",
    "                                                       # a@y gives (3,2) reduce mean along axis 0 squashes to (1,2)\n",
    "    \n",
    "dzdx = Tape.gradient(z,x)\n",
    "dzdy = Tape.gradient(z,y)\n",
    "\n",
    "#MUST del Tape!\n",
    "del Tape\n",
    "\n",
    "print(dzdx, end=2*'\\n')\n",
    "print(dzdy, end=2*'\\n')\n",
    "print(z)"
   ]
  },
  {
   "cell_type": "markdown",
   "metadata": {},
   "source": [
    "#### Gradients of a Layer"
   ]
  },
  {
   "cell_type": "code",
   "execution_count": 5,
   "metadata": {},
   "outputs": [
    {
     "name": "stdout",
     "output_type": "stream",
     "text": [
      "[<tf.Tensor: shape=(4, 1), dtype=float32, numpy=\n",
      "array([[-0.21923615],\n",
      "       [ 0.28590745],\n",
      "       [ 0.8140025 ],\n",
      "       [ 0.03817137]], dtype=float32)>, <tf.Tensor: shape=(1,), dtype=float32, numpy=array([1.], dtype=float32)>]\n"
     ]
    }
   ],
   "source": [
    "from tensorflow.keras.layers import Dense\n",
    "\n",
    "x = tf.random.normal((1, 4))\n",
    "\n",
    "#define layer \n",
    "dense_layer = Dense(1, activation='elu')\n",
    "\n",
    "with tf.GradientTape() as tape:\n",
    "    #tape automatically watches vairables and since x as is inputed into our model which creates \n",
    "    #weights and bias tf.variables and which we will diff w.r.t. We have no need to watch x\n",
    "    \n",
    "    # x is the input into dense layer\n",
    "    y = dense_layer(x)\n",
    "    \n",
    "# diff layer w.r.t the layers vairables (weights and bias)\n",
    "# note: Layer variables (as with any tf.variable) are automatically watched by the gradient tape - so no need to specify\n",
    "grads = tape.gradient(y, dense_layer.trainable_variables) \n",
    "print(grads)\n",
    "\n",
    "# weights have shape (imput_dim[-1], units)"
   ]
  },
  {
   "cell_type": "markdown",
   "metadata": {},
   "source": [
    "#### Gradients of model operations"
   ]
  },
  {
   "cell_type": "code",
   "execution_count": 6,
   "metadata": {},
   "outputs": [
    {
     "data": {
      "text/plain": [
       "[<tf.Tensor: shape=(2, 3), dtype=float32, numpy=\n",
       " array([[-0.0421991 ,  0.06359334, -0.02707339],\n",
       "        [-0.04672643,  0.06867856, -0.03089229]], dtype=float32)>,\n",
       " <tf.Tensor: shape=(3,), dtype=float32, numpy=array([-0.06462037,  0.09497093, -0.04272681], dtype=float32)>,\n",
       " <tf.Tensor: shape=(3, 1), dtype=float32, numpy=\n",
       " array([[-0.15277602],\n",
       "        [-0.19152072],\n",
       "        [-0.2664209 ]], dtype=float32)>,\n",
       " <tf.Tensor: shape=(1,), dtype=float32, numpy=array([-0.4032308], dtype=float32)>]"
      ]
     },
     "execution_count": 6,
     "metadata": {},
     "output_type": "execute_result"
    }
   ],
   "source": [
    "from tensorflow.keras.models import Sequential\n",
    "\n",
    "model = Sequential([\n",
    "    Dense(3, activation='sigmoid'),\n",
    "    Dense(1, activation='linear')\n",
    "])\n",
    "\n",
    "x = tf.random.uniform((2, 2))\n",
    "y = tf.random.uniform((2, 1))\n",
    "\n",
    "\n",
    "with tf.GradientTape() as tape:\n",
    "    \n",
    "    #Define our function\n",
    "    loss = tf.keras.losses.mse(y, model(x)) # model(x) is our prediction\n",
    "\n",
    "#compute gradient of loss w.r.t model weights (as needed for GD optimisation)\n",
    "grads = tape.gradient(loss, model.trainable_weights)\n",
    "grads\n",
    "\n",
    "#First layer has (2,3) weights differentials and (3,) bias differentials\n",
    "#shows 2nd layer has (3, 1) weights differntials and (1,) bias diffential"
   ]
  },
  {
   "cell_type": "markdown",
   "metadata": {},
   "source": [
    "*Exercise.*\n",
    "\n",
    "Use `tf.GradientTape` to make a plot of the function $\\frac{dy}{dx}:[-5, 5]\\mapsto\\mathbb{R}$, where $y = \\sin (x^2) - \\frac{x^2}{4}$.\n",
    "\n",
    "the way to do it would be to loop over a linspace the values (-5,5) and computing the gradinet for each - fairly simple to set"
   ]
  },
  {
   "cell_type": "code",
   "execution_count": 17,
   "metadata": {},
   "outputs": [],
   "source": [
    "import numpy as np\n",
    "import matplotlib.pyplot as plt\n",
    "\n",
    "space = np.linspace(-5, 5, 100)\n",
    "\n",
    "grads = []\n",
    "for x in space:\n",
    "    x = tf.constant(x)\n",
    "    \n",
    "    with tf.GradientTape() as Tape:\n",
    "        #x is not a variable so have to watch it\n",
    "        Tape.watch(x)\n",
    "        \n",
    "        #define the function\n",
    "        y = tf.math.sin(x**2) - (x**2 / 4)\n",
    "        \n",
    "    dydx = Tape.gradient(y, x).numpy()\n",
    "    grads.append(dydx)    "
   ]
  },
  {
   "cell_type": "code",
   "execution_count": 39,
   "metadata": {},
   "outputs": [],
   "source": [
    "def y_line(x):\n",
    "    return np.math.sin(x**2) - (x**2 / 4)"
   ]
  },
  {
   "cell_type": "code",
   "execution_count": 51,
   "metadata": {},
   "outputs": [
    {
     "data": {
      "image/png": "[encoded data removed]",
      "text/plain": [
       "<Figure size 720x576 with 1 Axes>"
      ]
     },
     "metadata": {
      "needs_background": "light"
     },
     "output_type": "display_data"
    }
   ],
   "source": [
    "plt.figure(figsize=(10, 8))\n",
    "plt.plot(space, [y_line(x) for x in space], label='Function, y')\n",
    "plt.plot(space, grads, label='Gradients, dy/dx')\n",
    "plt.title('Plot of Function vs Gradient')\n",
    "plt.legend()\n",
    "plt.show()"
   ]
  },
  {
   "cell_type": "markdown",
   "metadata": {},
   "source": [
    "## Custom Training Loop: Low-Level Optimization"
   ]
  },
  {
   "cell_type": "markdown",
   "metadata": {},
   "source": [
    "I am going to build a custom training loop which is used in the optimization of the parameters. Usually the Keras High-level API's `.fit` `.compile` are used. However I wanted to impliment a low-level equivelent, using GradientTape(). I will impliment the forward pass (computing the gradient of the loss w.r.t the model parameters) and backward pass/propogation (feeding these gradients back in to the NN and using an RSMprop optimizer to impliment the optimization). Used the MNIST dataset."
   ]
  },
  {
   "cell_type": "code",
   "execution_count": 1,
   "metadata": {},
   "outputs": [],
   "source": [
    "import tensorflow as tf"
   ]
  },
  {
   "cell_type": "code",
   "execution_count": 2,
   "metadata": {},
   "outputs": [],
   "source": [
    "# Loading Fashion-MNIST dataset\n",
    "\n",
    "(x_train, y_train), _ = tf.keras.datasets.fashion_mnist.load_data() "
   ]
  },
  {
   "cell_type": "code",
   "execution_count": 3,
   "metadata": {},
   "outputs": [],
   "source": [
    "# store class labels\n",
    "\n",
    "classes = [\n",
    "    \"T-shirt/top\",\n",
    "    \"Trouser\",\n",
    "    \"Pullover\",\n",
    "    \"Dress\",\n",
    "    \"Coat\",\n",
    "    \"Sandal\",\n",
    "    \"Shirt\",\n",
    "    \"Sneaker\",\n",
    "    \"Bag\",\n",
    "    \"Ankle boot\"\n",
    "]"
   ]
  },
  {
   "cell_type": "code",
   "execution_count": 4,
   "metadata": {},
   "outputs": [
    {
     "data": {
      "image/png": "[encoded data removed]",
      "text/plain": [
       "<Figure size 1008x576 with 15 Axes>"
      ]
     },
     "metadata": {
      "needs_background": "light"
     },
     "output_type": "display_data"
    }
   ],
   "source": [
    "# View a few training data examples\n",
    "\n",
    "import numpy as np\n",
    "import matplotlib.pyplot as plt\n",
    "\n",
    "n_rows, n_cols = 3, 5\n",
    "random_inx = np.random.choice(x_train.shape[0], n_rows * n_cols, replace=False)\n",
    "fig, axes = plt.subplots(n_rows, n_cols, figsize=(14, 8))\n",
    "fig.subplots_adjust(hspace=0.2, wspace=0.1)\n",
    "\n",
    "for n, i in enumerate(random_inx):\n",
    "    row = n // n_cols\n",
    "    col = n % n_cols\n",
    "    axes[row, col].imshow(x_train[i])\n",
    "    axes[row, col].get_xaxis().set_visible(False)\n",
    "    axes[row, col].get_yaxis().set_visible(False)\n",
    "    axes[row, col].text(10., -1.5, f'{classes[y_train[i]]}')\n",
    "plt.show()"
   ]
  },
  {
   "cell_type": "code",
   "execution_count": 5,
   "metadata": {},
   "outputs": [],
   "source": [
    "#create a Model\n",
    "\n",
    "from tensorflow.keras.models import Sequential\n",
    "from tensorflow.keras.layers import Flatten, Dense\n",
    "\n",
    "\n",
    "def get_model():\n",
    "    model = Sequential([\n",
    "        Flatten(input_shape=(28,28)), # 28x28 is the image size ie 784 pixels \n",
    "        Dense(64, activation='relu'),\n",
    "        Dense(64, activation='relu'),\n",
    "        Dense(10) # 10 output catagories\n",
    "    ], name='fashion_mnist_classifier')\n",
    "    return model \n",
    "\n",
    "fashion_mnist_model = get_model()"
   ]
  },
  {
   "cell_type": "code",
   "execution_count": 6,
   "metadata": {},
   "outputs": [
    {
     "name": "stdout",
     "output_type": "stream",
     "text": [
      "Model: \"fashion_mnist_classifier\"\n",
      "_________________________________________________________________\n",
      "Layer (type)                 Output Shape              Param #   \n",
      "=================================================================\n",
      "flatten (Flatten)            (None, 784)               0         \n",
      "_________________________________________________________________\n",
      "dense (Dense)                (None, 64)                50240     \n",
      "_________________________________________________________________\n",
      "dense_1 (Dense)              (None, 64)                4160      \n",
      "_________________________________________________________________\n",
      "dense_2 (Dense)              (None, 10)                650       \n",
      "=================================================================\n",
      "Total params: 55,050\n",
      "Trainable params: 55,050\n",
      "Non-trainable params: 0\n",
      "_________________________________________________________________\n"
     ]
    }
   ],
   "source": [
    "# Model summary\n",
    "\n",
    "fashion_mnist_model.summary()"
   ]
  },
  {
   "cell_type": "code",
   "execution_count": 7,
   "metadata": {},
   "outputs": [],
   "source": [
    "# Define optimizer\n",
    "\n",
    "rsmprop_opt = tf.keras.optimizers.RMSprop(learning_rate = 0.005)\n",
    "\n",
    "#define loss function\n",
    "\n",
    "spCC = tf.keras.losses.SparseCategoricalCrossentropy(from_logits=True) #data is sparse.\n",
    "#the loss function is expecting the model to return the logits of the softmax rather than \n",
    "#the softmax output itself - works as i have no activation fun in last layer"
   ]
  },
  {
   "cell_type": "code",
   "execution_count": 8,
   "metadata": {},
   "outputs": [
    {
     "data": {
      "text/plain": [
       "(TensorSpec(shape=(28, 28), dtype=tf.uint8, name=None),\n",
       " TensorSpec(shape=(), dtype=tf.uint8, name=None))"
      ]
     },
     "execution_count": 8,
     "metadata": {},
     "output_type": "execute_result"
    }
   ],
   "source": [
    "# Load the data into a tf.data.Dataset\n",
    "\n",
    "train_dataset = tf.data.Dataset.from_tensor_slices((x_train, y_train))\n",
    "train_dataset.element_spec\n",
    "\n",
    "#each input is a (28,28) of type unit8 ie a interger between 0 and 254. Output is a scalar"
   ]
  },
  {
   "cell_type": "code",
   "execution_count": 9,
   "metadata": {},
   "outputs": [],
   "source": [
    "# Normalise the pixel values from (0,254) to (0,1).Easier for traning\n",
    "\n",
    "def Normalise_pixels(image, label):\n",
    "    return (tf.cast(image, tf.float32) / 255. , label)\n",
    "\n",
    "train_dataset = train_dataset.map(Normalise_pixels)"
   ]
  },
  {
   "cell_type": "code",
   "execution_count": 10,
   "metadata": {},
   "outputs": [],
   "source": [
    "# shuffle dataset\n",
    "\n",
    "train_dataset = train_dataset.shuffle(buffer_size=1024)"
   ]
  },
  {
   "cell_type": "code",
   "execution_count": 11,
   "metadata": {},
   "outputs": [],
   "source": [
    "#batch data \n",
    "batch_size = 64\n",
    "train_dataset = train_dataset.batch(batch_size)"
   ]
  },
  {
   "cell_type": "code",
   "execution_count": 12,
   "metadata": {},
   "outputs": [
    {
     "data": {
      "text/plain": [
       "(TensorSpec(shape=(None, 28, 28), dtype=tf.float32, name=None),\n",
       " TensorSpec(shape=(None,), dtype=tf.uint8, name=None))"
      ]
     },
     "execution_count": 12,
     "metadata": {},
     "output_type": "execute_result"
    }
   ],
   "source": [
    "train_dataset.element_spec"
   ]
  },
  {
   "cell_type": "code",
   "execution_count": 13,
   "metadata": {},
   "outputs": [
    {
     "name": "stdout",
     "output_type": "stream",
     "text": [
      "End of epoch 0, final loss value: 0.6775978803634644\n",
      "End of epoch 1, final loss value: 0.2938024401664734\n",
      "End of epoch 2, final loss value: 0.6153756976127625\n",
      "End of epoch 3, final loss value: 0.4032072424888611\n",
      "End of epoch 4, final loss value: 0.3374311923980713\n",
      "End of training, time: 58.1787\n"
     ]
    }
   ],
   "source": [
    "#Custom training loop!!\n",
    "\n",
    "import time \n",
    "\n",
    "epochs = 5 \n",
    "start = time.perf_counter()\n",
    "\n",
    "for epoch in range(epochs):\n",
    "    for images, labels in train_dataset:\n",
    "        \n",
    "        with tf.GradientTape() as Tape:\n",
    "            \n",
    "            #model predictions\n",
    "            logits = fashion_mnist_model(images)\n",
    "            #our batch_loss\n",
    "            batch_loss = spCC(labels, logits)\n",
    "            \n",
    "        #FORWARD PASS - Gradients of the loss w.r.t model weights\n",
    "        grads = Tape.gradient(batch_loss, fashion_mnist_model.trainable_weights)\n",
    "            \n",
    "        #BACKWARD PROPOGATION - use optimizers built in apply_gradient method to propogate back through NN\n",
    "        rsmprop_opt.apply_gradients(zip(grads, fashion_mnist_model.trainable_weights))\n",
    "            \n",
    "    print(\"End of epoch {}, final loss value: {}\".format(epoch, batch_loss))\n",
    "print(\"End of training, time: {:.4f}\".format(time.perf_counter() - start))     "
   ]
  },
  {
   "cell_type": "markdown",
   "metadata": {},
   "source": [
    "### Lets speed it us using TensorFlows built in optimization functions\n",
    "\n",
    "Tensorflow has its own built-in optimizations which speed up the processing power. See here for more details: https://www.tensorflow.org/guide/data_performance.\n",
    "\n",
    "I Optimise the custom training loop by compiling the training step into a graph! If tensor flow can see the whole compuational graph before anything is executed (where the @tf.function comes in) it can make optimisations itself - i.e it can run certain steps in parallel. In my first implimentation above, Tensorflow cannot see the whole computational graph - hence it cannot apply any optimisations and thus is much slower!"
   ]
  },
  {
   "cell_type": "code",
   "execution_count": 14,
   "metadata": {},
   "outputs": [
    {
     "name": "stdout",
     "output_type": "stream",
     "text": [
      "End of epoch 0, final loss value: 0.27868974208831787\n",
      "End of epoch 1, final loss value: 0.38076573610305786\n",
      "End of epoch 2, final loss value: 0.36072105169296265\n",
      "End of epoch 3, final loss value: 0.20981484651565552\n",
      "End of epoch 4, final loss value: 0.4553931653499603\n",
      "End of training, time: 21.6718\n"
     ]
    }
   ],
   "source": [
    "#compose the training step into a function.\n",
    "\n",
    "@tf.function #<-- Python decorator\n",
    "def train_step(images, labels):\n",
    "    \n",
    "    with tf.GradientTape() as Tape:\n",
    "            \n",
    "        #model predictions\n",
    "        logits = fashion_mnist_model(images)\n",
    "        #our batch_loss\n",
    "        batch_loss = spCC(labels, logits)\n",
    "\n",
    "    #FORWARD PASS - Gradients of the loss w.r.t model weights\n",
    "    grads = Tape.gradient(batch_loss, fashion_mnist_model.trainable_weights)\n",
    "\n",
    "    #BACKWARD PROPOGATION - use optimizers built in apply_gradient method to propogate back through NN\n",
    "    rsmprop_opt.apply_gradients(zip(grads, fashion_mnist_model.trainable_weights))\n",
    "    \n",
    "    return batch_loss\n",
    "\n",
    "\n",
    "# interate as before\n",
    "\n",
    "import time \n",
    "\n",
    "epochs = 5 \n",
    "start = time.perf_counter()\n",
    "\n",
    "for epoch in range(epochs):\n",
    "    for images, labels in train_dataset:\n",
    "        \n",
    "        with tf.GradientTape() as Tape:\n",
    "            #model predictions\n",
    "            logits = fashion_mnist_model(images) \n",
    "            \n",
    "            # call the training step function we have defined\n",
    "            batch_loss = train_step(images, labels)\n",
    "         \n",
    "    print(\"End of epoch {}, final loss value: {}\".format(epoch, batch_loss))\n",
    "print(\"End of training, time: {:.4f}\".format(time.perf_counter() - start))"
   ]
  }
 ],
 "metadata": {
  "kernelspec": {
   "display_name": "Python 3",
   "language": "python",
   "name": "python3"
  },
  "language_info": {
   "codemirror_mode": {
    "name": "ipython",
    "version": 3
   },
   "file_extension": ".py",
   "mimetype": "text/x-python",
   "name": "python",
   "nbconvert_exporter": "python",
   "pygments_lexer": "ipython3",
   "version": "3.8.3"
  }
 },
 "nbformat": 4,
 "nbformat_minor": 4
}
