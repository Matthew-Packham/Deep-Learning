{
 "cells": [
  {
   "cell_type": "markdown",
   "metadata": {},
   "source": [
    "# Regularization Techniques"
   ]
  },
  {
   "cell_type": "markdown",
   "metadata": {},
   "source": [
    "In in this notebook, I will purposely create a model which overfits and then apply regularization techniques to mitigate this overfitting as much as possible!\n",
    "\n",
    "This is the goal:\n",
    "\n",
    "<img src=\"early_stopping.png\" alt=\"Early stopping\" style=\"width: 500px;\"/>\n",
    "\n",
    "At the end of this notebook I create my own custom CallBack"
   ]
  },
  {
   "cell_type": "code",
   "execution_count": 1,
   "metadata": {},
   "outputs": [],
   "source": [
    "import tensorflow as tf\n",
    "import numpy as np "
   ]
  },
  {
   "cell_type": "code",
   "execution_count": 2,
   "metadata": {},
   "outputs": [
    {
     "name": "stdout",
     "output_type": "stream",
     "text": [
      ".. _diabetes_dataset:\n",
      "\n",
      "Diabetes dataset\n",
      "----------------\n",
      "\n",
      "Ten baseline variables, age, sex, body mass index, average blood\n",
      "pressure, and six blood serum measurements were obtained for each of n =\n",
      "442 diabetes patients, as well as the response of interest, a\n",
      "quantitative measure of disease progression one year after baseline.\n",
      "\n",
      "**Data Set Characteristics:**\n",
      "\n",
      "  :Number of Instances: 442\n",
      "\n",
      "  :Number of Attributes: First 10 columns are numeric predictive values\n",
      "\n",
      "  :Target: Column 11 is a quantitative measure of disease progression one year after baseline\n",
      "\n",
      "  :Attribute Information:\n",
      "      - age     age in years\n",
      "      - sex\n",
      "      - bmi     body mass index\n",
      "      - bp      average blood pressure\n",
      "      - s1      tc, T-Cells (a type of white blood cells)\n",
      "      - s2      ldl, low-density lipoproteins\n",
      "      - s3      hdl, high-density lipoproteins\n",
      "      - s4      tch, thyroid stimulating hormone\n",
      "      - s5      ltg, lamotrigine\n",
      "      - s6      glu, blood sugar level\n",
      "\n",
      "Note: Each of these 10 feature variables have been mean centered and scaled by the standard deviation times `n_samples` (i.e. the sum of squares of each column totals 1).\n",
      "\n",
      "Source URL:\n",
      "https://www4.stat.ncsu.edu/~boos/var.select/diabetes.html\n",
      "\n",
      "For more information see:\n",
      "Bradley Efron, Trevor Hastie, Iain Johnstone and Robert Tibshirani (2004) \"Least Angle Regression,\" Annals of Statistics (with discussion), 407-499.\n",
      "(https://web.stanford.edu/~hastie/Papers/LARS/LeastAngle_2002.pdf)\n"
     ]
    }
   ],
   "source": [
    "#Load our dataset - Sklearns Diabetes as low number of data pts - so easier to create a model whihc will overfit\n",
    "\n",
    "from sklearn.datasets import load_diabetes\n",
    "diabetes_dataset = load_diabetes()\n",
    "print(diabetes_dataset['DESCR'])"
   ]
  },
  {
   "cell_type": "code",
   "execution_count": 20,
   "metadata": {},
   "outputs": [
    {
     "name": "stdout",
     "output_type": "stream",
     "text": [
      "dict_keys(['data', 'target', 'frame', 'DESCR', 'feature_names', 'data_filename', 'target_filename'])\n",
      "\n",
      "(442, 10) <class 'numpy.ndarray'>\n",
      "\n",
      "(442,) <class 'numpy.ndarray'>\n"
     ]
    }
   ],
   "source": [
    "# Get the input and target data\n",
    "\n",
    "print(diabetes_dataset.keys(), end=2*'\\n')\n",
    "data = diabetes_dataset['data']\n",
    "print(data.shape, type(data), end=2*'\\n')\n",
    "target = diabetes_dataset['target']\n",
    "print(target.shape, type(target))"
   ]
  },
  {
   "cell_type": "code",
   "execution_count": 4,
   "metadata": {},
   "outputs": [],
   "source": [
    "#Data has already been centered and scaled (see desc) so lets Normalise - numpy arrays so have mean and std methods\n",
    "\n",
    "targets = (target-target.mean()) / target.std()"
   ]
  },
  {
   "cell_type": "code",
   "execution_count": 5,
   "metadata": {},
   "outputs": [
    {
     "name": "stdout",
     "output_type": "stream",
     "text": [
      "(353, 10) (353,)\n",
      "\n",
      "(89, 10) (89,)\n"
     ]
    }
   ],
   "source": [
    "# Partition the data into training and validation sets\n",
    "\n",
    "from sklearn.model_selection import train_test_split \n",
    "\n",
    "train_data, val_data, train_targets, val_targets = train_test_split(data, targets, test_size=0.2) #splits into 80/20 \n",
    "print(train_data.shape, train_targets.shape, end=2*'\\n')\n",
    "print(val_data.shape, val_targets.shape)"
   ]
  },
  {
   "cell_type": "code",
   "execution_count": 6,
   "metadata": {},
   "outputs": [],
   "source": [
    "# Load the data into training and validation Dataset objects\n",
    "\n",
    "train_dataset = tf.data.Dataset.from_tensor_slices((train_data, train_targets))\n",
    "val_dataset = tf.data.Dataset.from_tensor_slices((val_data, val_targets))\n",
    "\n",
    "#also shuffle dataset - use 353 which is the size of the dataset - might as well as so small!\n",
    "\n",
    "train_dataset = train_dataset.shuffle(353)\n",
    "\n",
    "#now lets batch up our training data\n",
    "\n",
    "train_dataset = train_dataset.batch(128)\n",
    "val_dataset = val_dataset.batch(89)\n",
    "\n",
    "#final stadge - prefeching - this is where tensor flow prefeches the next batch in parallel - optimises runtime!\n",
    "train_dataset = train_dataset.prefetch(tf.data.experimental.AUTOTUNE) "
   ]
  },
  {
   "cell_type": "code",
   "execution_count": 7,
   "metadata": {},
   "outputs": [
    {
     "data": {
      "text/plain": [
       "10"
      ]
     },
     "execution_count": 7,
     "metadata": {},
     "output_type": "execute_result"
    }
   ],
   "source": [
    "train_data.shape[-1]"
   ]
  },
  {
   "cell_type": "code",
   "execution_count": 8,
   "metadata": {},
   "outputs": [
    {
     "name": "stdout",
     "output_type": "stream",
     "text": [
      "Model: \"sequential\"\n",
      "_________________________________________________________________\n",
      "Layer (type)                 Output Shape              Param #   \n",
      "=================================================================\n",
      "dense (Dense)                (None, 256)               2816      \n",
      "_________________________________________________________________\n",
      "dense_1 (Dense)              (None, 256)               65792     \n",
      "_________________________________________________________________\n",
      "dense_2 (Dense)              (None, 256)               65792     \n",
      "_________________________________________________________________\n",
      "dense_3 (Dense)              (None, 1)                 257       \n",
      "=================================================================\n",
      "Total params: 134,657\n",
      "Trainable params: 134,657\n",
      "Non-trainable params: 0\n",
      "_________________________________________________________________\n"
     ]
    }
   ],
   "source": [
    "# Build the MLP model - to build an mlp we need sequencial class\n",
    "\n",
    "from tensorflow.keras.models import Sequential\n",
    "from tensorflow.keras.layers import Dense\n",
    "\n",
    "\n",
    "#NOTE TO SELF: we are telling tf what the input_shape is in (batch_size, input_shape)\n",
    "# our input_shape is 10 since we have 353 examples of length 10\n",
    "#we are not telling it anything about the batch_dim!! - it works it out based on\n",
    "#the data we give it!\n",
    "\n",
    "#consequently since tf now knows the input_shape it can create the weights automatically (calls the .build method).\n",
    "#Since the weights have shape (input_shape, units) !!! - Brilliant!\n",
    "model = Sequential([\n",
    "    Dense(256, activation='relu', input_shape=(train_data.shape[-1],)), # note train_data which is narray not train_dataset\n",
    "    Dense(256, activation='relu'),\n",
    "    Dense(256, activation='relu'),\n",
    "    Dense(1)\n",
    "])\n",
    "\n",
    "model.summary()"
   ]
  },
  {
   "cell_type": "markdown",
   "metadata": {},
   "source": [
    "I've created a model which has 134,657 parameters for a training dataset with n=353 examples! This should definielty over fit!! As planned!\n",
    "\n",
    "Lets see:"
   ]
  },
  {
   "cell_type": "code",
   "execution_count": 9,
   "metadata": {},
   "outputs": [],
   "source": [
    "# Compile the model with neccessary optimizer and loss fn\n",
    "\n",
    "model.compile(optimizer='adam', loss='mse')"
   ]
  },
  {
   "cell_type": "code",
   "execution_count": 10,
   "metadata": {},
   "outputs": [],
   "source": [
    "# Train the model, including validation\n",
    "\n",
    "#now fit the model\n",
    "# earlier I created a tf.data.dataset object as a tuple of inputs and targets - so can just straight feed dataset object in!\n",
    "#(similarly for validation - used to evaluate the loss and any model metrics at the end of each epoch. not used in training)\n",
    "\n",
    "history = model.fit(train_dataset, epochs=100, validation_data=val_dataset, verbose=False) "
   ]
  },
  {
   "cell_type": "code",
   "execution_count": 11,
   "metadata": {},
   "outputs": [
    {
     "name": "stdout",
     "output_type": "stream",
     "text": [
      "<class 'dict'> dict_keys(['loss', 'val_loss'])\n"
     ]
    }
   ],
   "source": [
    "#we have two metrics, the loss on the training data and the loss on the validation set - both use mse as defined in compile\n",
    "print(type(history.history), history.history.keys())"
   ]
  },
  {
   "cell_type": "code",
   "execution_count": 12,
   "metadata": {},
   "outputs": [
    {
     "data": {
      "image/png": "[encoded data removed]",
      "text/plain": [
       "<Figure size 432x288 with 1 Axes>"
      ]
     },
     "metadata": {
      "needs_background": "light"
     },
     "output_type": "display_data"
    }
   ],
   "source": [
    "# Plot the training and validation loss\n",
    "\n",
    "import matplotlib.pyplot as plt\n",
    "\n",
    "plt.plot(history.history['loss'])\n",
    "plt.plot(history.history['val_loss'])\n",
    "plt.title('Loss vs. epochs')\n",
    "plt.ylabel('Loss')\n",
    "plt.xlabel('Epoch')\n",
    "plt.legend(['Training', 'Validation'], loc='upper right')\n",
    "plt.show()"
   ]
  },
  {
   "cell_type": "markdown",
   "metadata": {},
   "source": [
    "As predicited we have clear overfitting! as the model starts to learn (epochs get bigger) the training loss is decreasing, whilst the validation loss is sky rocketing. Therefore the model is overfitting the training data, but when it sees new (unseen) data, it doesnt generalise well as seen in the high loss on validation!"
   ]
  },
  {
   "cell_type": "markdown",
   "metadata": {},
   "source": [
    "### Let's fix this through regularization!"
   ]
  },
  {
   "cell_type": "markdown",
   "metadata": {},
   "source": [
    "First 'port of call' is to impliment l2 regularization into each Dense layer in the network and include enclosed dropout layers.\n",
    "\n",
    "Both $\\mathcal{l}^2$ and $\\mathcal{l}^1$ regularisation can easily be included using the `kernel_regularizer` and `bias_regularizer` keyword arguments in the `Dense` layer."
   ]
  },
  {
   "cell_type": "code",
   "execution_count": 13,
   "metadata": {},
   "outputs": [
    {
     "name": "stdout",
     "output_type": "stream",
     "text": [
      "Model: \"sequential_1\"\n",
      "_________________________________________________________________\n",
      "Layer (type)                 Output Shape              Param #   \n",
      "=================================================================\n",
      "dense_4 (Dense)              (None, 256)               2816      \n",
      "_________________________________________________________________\n",
      "dropout (Dropout)            (None, 256)               0         \n",
      "_________________________________________________________________\n",
      "dense_5 (Dense)              (None, 256)               65792     \n",
      "_________________________________________________________________\n",
      "dropout_1 (Dropout)          (None, 256)               0         \n",
      "_________________________________________________________________\n",
      "dense_6 (Dense)              (None, 256)               65792     \n",
      "_________________________________________________________________\n",
      "dropout_2 (Dropout)          (None, 256)               0         \n",
      "_________________________________________________________________\n",
      "dense_7 (Dense)              (None, 1)                 257       \n",
      "=================================================================\n",
      "Total params: 134,657\n",
      "Trainable params: 134,657\n",
      "Non-trainable params: 0\n",
      "_________________________________________________________________\n"
     ]
    }
   ],
   "source": [
    "# Redefine the model using l2 regularisation and dropout\n",
    "\n",
    "from tensorflow.keras.layers import Dropout #import dropout layer\n",
    "from tensorflow.keras import regularizers #import regularizers module\n",
    "\n",
    "#set hyper parameters \n",
    "l2_coeff = 1e-5\n",
    "rate = 0.5\n",
    "\n",
    "#def function to build updated model\n",
    "\n",
    "def get_regularised_model():\n",
    "    \n",
    "    model = Sequential([#added regularizer l2 norm\n",
    "        Dense(256, kernel_regularizer=regularizers.l2(l2_coeff), activation='relu', input_shape=(train_data.shape[-1],)),\n",
    "        Dropout(rate),  #add dropout \n",
    "        Dense(256, kernel_regularizer=regularizers.l2(l2_coeff), activation='relu'),\n",
    "        Dropout(rate),  #add dropout \n",
    "        Dense(256, kernel_regularizer=regularizers.l2(l2_coeff), activation='relu'),\n",
    "        Dropout(rate),\n",
    "        Dense(1)\n",
    "    ])\n",
    "    return model\n",
    "\n",
    "reg_model = get_regularised_model()\n",
    "reg_model.summary()"
   ]
  },
  {
   "cell_type": "code",
   "execution_count": 14,
   "metadata": {},
   "outputs": [],
   "source": [
    "# Compile the model\n",
    "reg_model.compile(optimizer='adam', loss='mse')\n",
    "\n",
    "#fit the model\n",
    "history = reg_model.fit(train_dataset, epochs=100, validation_data=val_dataset, verbose=False)"
   ]
  },
  {
   "cell_type": "code",
   "execution_count": 15,
   "metadata": {},
   "outputs": [
    {
     "data": {
      "image/png": "[encoded data removed]",
      "text/plain": [
       "<Figure size 432x288 with 1 Axes>"
      ]
     },
     "metadata": {
      "needs_background": "light"
     },
     "output_type": "display_data"
    }
   ],
   "source": [
    "# Plot the training and validation loss\n",
    "\n",
    "plt.plot(history.history['loss'])\n",
    "plt.plot(history.history['val_loss'])\n",
    "plt.title('Loss vs. epochs')\n",
    "plt.ylabel('Loss')\n",
    "plt.xlabel('Epoch')\n",
    "plt.legend(['Training', 'Validation'], loc='upper right')\n",
    "plt.show()"
   ]
  },
  {
   "cell_type": "markdown",
   "metadata": {},
   "source": [
    "This is already a great improvement! We are seeing that the loss on the training data is far more realisic and the loss on the validation set is also far more realisitic! Its leveling out and not increasing further with the number of epochs.\n",
    "\n",
    "Undoubtly, this is still showing signs of overfitting, but already the two regularization techniques ive applied have effectively started to tackle the problem!\n",
    "\n",
    "lets continue with our quest and introduce `EarlyStopping` (which aims to break training once a patience threshold on no incremental improvemnets in the validation loss, is met). We do this through a callback!\n",
    "\n",
    "The `EarlyStopping` callback is a built-in callback in the `tf.keras.callbacks` module. You can see a complete list of built-in callbacks [here](https://www.tensorflow.org/api_docs/python/tf/keras/callbacks)."
   ]
  },
  {
   "cell_type": "code",
   "execution_count": 16,
   "metadata": {},
   "outputs": [],
   "source": [
    "# Create a new model\n",
    "\n",
    "reg_2_model = get_regularised_model()\n",
    "\n",
    "#compile it\n",
    "reg_2_model.compile(optimizer='adam', loss='mse')"
   ]
  },
  {
   "cell_type": "code",
   "execution_count": 17,
   "metadata": {},
   "outputs": [],
   "source": [
    "# Create an EarlyStopping callback\n",
    "\n",
    "#monitor: tells the callback which metric it should be measuring \n",
    "#patience: is the thershold/tolerance (ie the num of epochs that the performance is allowed to not improve on the best \n",
    "#performance, before training is terminated)\n",
    "earlystopping = tf.keras.callbacks.EarlyStopping(monitor='val_loss', patience=10)"
   ]
  },
  {
   "cell_type": "code",
   "execution_count": 18,
   "metadata": {},
   "outputs": [],
   "source": [
    "#train the model - now with the callback in place\n",
    "\n",
    "#NOTE: callbacks are passed as lists\n",
    "history = reg_2_model.fit(train_dataset, epochs=100, validation_data=val_dataset, verbose=False,\n",
    "                   callbacks=[earlystopping])"
   ]
  },
  {
   "cell_type": "code",
   "execution_count": 19,
   "metadata": {},
   "outputs": [
    {
     "data": {
      "image/png": "[encoded data removed]",
      "text/plain": [
       "<Figure size 432x288 with 1 Axes>"
      ]
     },
     "metadata": {
      "needs_background": "light"
     },
     "output_type": "display_data"
    }
   ],
   "source": [
    "# Plot the training and validation metrics\n",
    "\n",
    "import numpy as np\n",
    "\n",
    "plt.plot(history.history['loss'])\n",
    "plt.plot(history.history['val_loss'])\n",
    "plt.title('Loss vs. epochs')\n",
    "plt.ylabel('Loss')\n",
    "plt.xlabel('Epoch')\n",
    "plt.xticks(np.arange(len(history.history['loss'])))\n",
    "plt.legend(['Training', 'Validation'], loc='upper right')\n",
    "plt.show()"
   ]
  },
  {
   "cell_type": "markdown",
   "metadata": {},
   "source": [
    "Here we see the best validation loss (lowest) was achieved on the tenth epoch as we have 10 epochs of tolerance (patience level). Here we are seeing no overfitting. The validation loss is remaining in line with the training loss. This implies the model generalises very well!"
   ]
  },
  {
   "cell_type": "markdown",
   "metadata": {},
   "source": [
    "## Custom CallBack\n",
    "\n",
    "I will create a custom callback which saves a checkpoint of the 'best' model (one with the lowest validation loss). To do this I will utalise the `tf.train.Checkpoint` and `tf.train.CheckpointManger` classes."
   ]
  },
  {
   "cell_type": "code",
   "execution_count": 21,
   "metadata": {},
   "outputs": [],
   "source": [
    "from tensorflow.keras.callbacks import Callback\n",
    "\n",
    "class CheckpointCallback(Callback): \n",
    "    \n",
    "    def __init__(self, directory):\n",
    "        #inherit from tf.keras.callbacks.CallBack class\n",
    "        super(CheckpointCallback, self).__init__()\n",
    "        #create a directory to store optimum model \n",
    "        self.directory = directory\n",
    "        #initalise best validation score at infinty\n",
    "        self.best_val = tf.Variable(np.inf, trainable=False)\n",
    "   \n",
    "    #the set model we dont need - it is already defined in the base class\n",
    "    \n",
    "    # save a checkpoint of the model and store it!\n",
    "    def on_train_begin(self, logs=None):\n",
    "        #save/create checkpoint of model and weights using .Checkpoint\n",
    "        self.ckpt = tf.train.Checkpoint(model=self.model)\n",
    "        #use .CheckpointManager to manages multiple checkpoints (set to 3) by keeping some and deleting unneeded ones.\n",
    "        self.manager = tf.train.CheckpointManager(self.ckpt, self.directory, max_to_keep=3)\n",
    "        \n",
    "    #At the end of each epoch compare the current validation loss against the best \n",
    "    #validation loss so far. If it is better save the current model\n",
    "    def on_epoch_end(self, epoch, logs=None):\n",
    "        #get the current validation loss\n",
    "        val_mae = logs['val_mae']\n",
    "        if val_mae < self.best_val:\n",
    "            #update our best score to current score\n",
    "            self.best_val.assign(val_mae)\n",
    "            #save the model in our manager\n",
    "            self.manager.save()\n",
    "            print('saving best model at epoch {}'.format(epoch))"
   ]
  },
  {
   "cell_type": "markdown",
   "metadata": {},
   "source": [
    "I will also include earlystopping call back (initalised earlier) because otherwise the printing will be too much!"
   ]
  },
  {
   "cell_type": "code",
   "execution_count": 23,
   "metadata": {},
   "outputs": [],
   "source": [
    "ckpt_callback = CheckpointCallback('Model_ckpt')"
   ]
  },
  {
   "cell_type": "code",
   "execution_count": 26,
   "metadata": {},
   "outputs": [
    {
     "name": "stdout",
     "output_type": "stream",
     "text": [
      "saving best model at epoch 0\n",
      "saving best model at epoch 1\n",
      "saving best model at epoch 2\n",
      "saving best model at epoch 3\n",
      "saving best model at epoch 4\n",
      "saving best model at epoch 5\n",
      "saving best model at epoch 6\n",
      "saving best model at epoch 7\n",
      "saving best model at epoch 8\n",
      "saving best model at epoch 9\n",
      "saving best model at epoch 16\n",
      "saving best model at epoch 17\n",
      "saving best model at epoch 18\n",
      "saving best model at epoch 27\n"
     ]
    }
   ],
   "source": [
    "model_with_CC = get_regularised_model()\n",
    "\n",
    "#compile - lets also keep an eye on mae\n",
    "model_with_CC.compile(optimizer='adam', loss='mse', metrics=['mae'])\n",
    "\n",
    "#fit\n",
    "history = model_with_CC.fit(train_dataset, epochs=100, validation_data=val_dataset, callbacks=[earlystopping, ckpt_callback], verbose=False)"
   ]
  },
  {
   "cell_type": "code",
   "execution_count": 28,
   "metadata": {},
   "outputs": [
    {
     "name": "stdout",
     "output_type": "stream",
     "text": [
      " Volume in drive C is Windows\n",
      " Volume Serial Number is 9819-EB53\n",
      "\n",
      " Directory of C:\\Users\\matth\\Documents\\IMPERIAL\\Deep LEARNING\\week-2-lecture-notes-msp120\\model_ckpt\n",
      "\n",
      "15/12/2021  12:29    <DIR>          .\n",
      "15/12/2021  12:29    <DIR>          ..\n",
      "15/12/2021  12:29               345 checkpoint\n",
      "15/12/2021  12:29         1,619,998 ckpt-12.data-00000-of-00001\n",
      "15/12/2021  12:29             2,146 ckpt-12.index\n",
      "15/12/2021  12:29         1,619,998 ckpt-13.data-00000-of-00001\n",
      "15/12/2021  12:29             2,146 ckpt-13.index\n",
      "15/12/2021  12:29         1,619,998 ckpt-14.data-00000-of-00001\n",
      "15/12/2021  12:29             2,146 ckpt-14.index\n",
      "               7 File(s)      4,866,777 bytes\n",
      "               2 Dir(s)  260,753,408,000 bytes free\n"
     ]
    }
   ],
   "source": [
    "!dir .\\\\model_ckpt"
   ]
  },
  {
   "cell_type": "code",
   "execution_count": 33,
   "metadata": {},
   "outputs": [
    {
     "data": {
      "image/png": "[encoded data removed]",
      "text/plain": [
       "<Figure size 720x432 with 1 Axes>"
      ]
     },
     "metadata": {
      "needs_background": "light"
     },
     "output_type": "display_data"
    }
   ],
   "source": [
    "# Plot the training and validation metrics\n",
    "\n",
    "plt.figure(figsize=(10,6))\n",
    "plt.plot(history.history['loss'])\n",
    "plt.plot(history.history['val_loss'])\n",
    "plt.plot(history.history['val_mae'])\n",
    "plt.title('Loss vs. epochs')\n",
    "plt.ylabel('Loss')\n",
    "plt.xlabel('Epoch')\n",
    "plt.xticks(np.arange(len(history.history['loss'])))\n",
    "plt.legend(['Training', 'Val loss', 'Val MAE'], loc='upper right')\n",
    "plt.show()"
   ]
  },
  {
   "cell_type": "markdown",
   "metadata": {},
   "source": [
    "Lets now restore the weights of the best saved model from disk! First create a re-initalised model, then we can restore our best model weights!"
   ]
  },
  {
   "cell_type": "code",
   "execution_count": 34,
   "metadata": {},
   "outputs": [
    {
     "name": "stdout",
     "output_type": "stream",
     "text": [
      "1/1 [==============================] - 0s 16ms/step - loss: 1.0293 - mae: 0.8709\n"
     ]
    },
    {
     "data": {
      "text/plain": [
       "[1.029290795326233, 0.8709493279457092]"
      ]
     },
     "execution_count": 34,
     "metadata": {},
     "output_type": "execute_result"
    }
   ],
   "source": [
    "# Re-initialise the model\n",
    "\n",
    "#this is a randomly initialised model \n",
    "model = get_regularised_model()\n",
    "model.compile(optimizer='adam', loss='mse', metrics=['mae'])\n",
    "model.evaluate(val_dataset)\n",
    "\n",
    "#mse and mae are bad as we would expect"
   ]
  },
  {
   "cell_type": "code",
   "execution_count": 47,
   "metadata": {},
   "outputs": [
    {
     "name": "stdout",
     "output_type": "stream",
     "text": [
      "1/1 [==============================] - 0s 1ms/step - loss: 0.4973 - mae: 0.5520\n"
     ]
    },
    {
     "data": {
      "text/plain": [
       "[0.4973234236240387, 0.551971435546875]"
      ]
     },
     "execution_count": 47,
     "metadata": {},
     "output_type": "execute_result"
    }
   ],
   "source": [
    "# Restore the best model weights\n",
    "\n",
    "#create a checkpoint with the model \n",
    "ckpt = tf.train.Checkpoint(model=model)\n",
    "#restore the best model weights to this model\n",
    "ckpt.restore(tf.train.latest_checkpoint('model_ckpt'))\n",
    "\n",
    "#to show this has worked we re-evaluate it\n",
    "model.evaluate(val_dataset)\n",
    "\n",
    "#much better! same values as in the graph above!!"
   ]
  },
  {
   "cell_type": "code",
   "execution_count": 48,
   "metadata": {},
   "outputs": [
    {
     "name": "stderr",
     "output_type": "stream",
     "text": [
      "The system cannot find the file specified.\n",
      "The directory is not empty.\n"
     ]
    }
   ],
   "source": [
    "# Clean up -remove the model file\n",
    "\n",
    "!rd -r .\\\\model_ckpt"
   ]
  }
 ],
 "metadata": {
  "kernelspec": {
   "display_name": "Python 3",
   "language": "python",
   "name": "python3"
  },
  "language_info": {
   "codemirror_mode": {
    "name": "ipython",
    "version": 3
   },
   "file_extension": ".py",
   "mimetype": "text/x-python",
   "name": "python",
   "nbconvert_exporter": "python",
   "pygments_lexer": "ipython3",
   "version": "3.8.3"
  }
 },
 "nbformat": 4,
 "nbformat_minor": 4
}
