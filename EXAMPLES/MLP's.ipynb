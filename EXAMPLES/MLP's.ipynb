{
 "cells": [
  {
   "cell_type": "markdown",
   "metadata": {},
   "source": [
    "## Neuron"
   ]
  },
  {
   "cell_type": "code",
   "execution_count": 1,
   "metadata": {},
   "outputs": [],
   "source": [
    "import tensorflow as tf\n",
    "import numpy as np\n",
    "import matplotlib.pyplot as plt"
   ]
  },
  {
   "cell_type": "markdown",
   "metadata": {},
   "source": [
    "#### McCulloch-Pitts neuron\n",
    "As an example, we will use Tensors to implement the McCulloch-Pitts neuron for a simple logical function. The McCulloch-Pitts neuron operates on boolean inputs, and uses a threshold activation to produce a boolean output. The function can be written as\n",
    "\n",
    "$$\n",
    "f(\\mathbf{x}) = \n",
    "\\begin{cases}\n",
    "1 \\quad \\text{if } \\sum_i x_i \\ge b\\\\\n",
    "0 \\quad \\text{if } \\sum_i x_i < b\n",
    "\\end{cases}\n",
    "$$\n",
    "\n",
    "what is does is it, takes inputs $x_i$ and sums them, if that sum is greater than or equal to a threshold value , b then it returns 1 else it returns 0\n"
   ]
  },
  {
   "cell_type": "code",
   "execution_count": 2,
   "metadata": {},
   "outputs": [],
   "source": [
    "def logical_and(x):\n",
    "    #takes a single binary input vector x and returns 1 if all the elements are 1 and 0 otherwise \n",
    "    return tf.cast(tf.math.greater_equal(tf.reduce_sum(x), tf.reduce_prod(tf.shape(x))), tf.int32)"
   ]
  },
  {
   "cell_type": "markdown",
   "metadata": {},
   "source": [
    "#### The perceptron\n",
    "The perceptron is also a linear binary classifier, but with more flexible weights. It can be written as the following function\n",
    "\n",
    "$$\n",
    "f(\\mathbf{x}) = \n",
    "\\begin{cases}\n",
    "1 \\quad \\text{if } \\sum_i w_i x_i + b \\ge 0\\\\\n",
    "0 \\quad \\text{if } \\sum_i w_i x_i + b < 0\n",
    "\\end{cases}\n",
    "$$\n",
    "\n",
    "so, just like before if the weighted sum of inputs $(w_j. x_j)$ plus a bias, b is greater or equal to zero, then its equal to 1 and 0 otherwise."
   ]
  },
  {
   "cell_type": "code",
   "execution_count": 3,
   "metadata": {},
   "outputs": [],
   "source": [
    "# Define the perceptron classifier\n",
    "def perceptron(x):\n",
    "    return tf.math.greater_equal(tf.tensordot(x, weights, axes=1) + bias, 0.) # leaving this output as a bolean \n",
    "\n",
    "#remember that matrix multiplication is the same as the sum of the products, ie (1,2,3)@(3,2,1).T = 1.3 + 2.2 + 3.1 "
   ]
  },
  {
   "cell_type": "code",
   "execution_count": 4,
   "metadata": {},
   "outputs": [],
   "source": [
    "#random data points\n",
    "\n",
    "data = tf.random.normal((100,2)) # rank 2 tensor with 100 rows and 2 columns\n",
    "\n",
    "# Use variables for the weights and bias (so we can update there values) \n",
    "# Use tensors for the inputs (which remain constant)\n",
    "\n",
    "weights = tf.Variable(tf.constant([1., 0.5]), name='Weights')\n",
    "\n",
    "bias = tf.Variable(tf.constant([-0.5]), name='Bias')\n"
   ]
  },
  {
   "cell_type": "markdown",
   "metadata": {},
   "source": [
    "Summary: I have created 100 2-d pts. We apply our perceptron, which sums each pt in our data with the weight we specify and adds the bias. If that sum is greater than zero, then the associated pt is in class 1. Else (its negative) its in class 0"
   ]
  },
  {
   "cell_type": "code",
   "execution_count": 5,
   "metadata": {},
   "outputs": [],
   "source": [
    "def perceptron_plot(preds):\n",
    "    positive_class = data[preds] # All the Trues\n",
    "    negative_class = data[~preds] # ~ is NOT ie NOT True = False (Tilda)\n",
    "\n",
    "    plt.scatter(positive_class[:, 0], positive_class[:, 1], alpha=0.5, label='Positive')\n",
    "    plt.scatter(negative_class[:, 0], negative_class[:, 1], alpha=0.5, label='Negative')\n",
    "    plt.title('Perceptron Classifications')\n",
    "    plt.legend()\n",
    "    plt.show()"
   ]
  },
  {
   "cell_type": "code",
   "execution_count": 6,
   "metadata": {},
   "outputs": [
    {
     "data": {
      "image/png": "[encoded data removed]",
      "text/plain": [
       "<Figure size 432x288 with 1 Axes>"
      ]
     },
     "metadata": {
      "needs_background": "light"
     },
     "output_type": "display_data"
    }
   ],
   "source": [
    "#plot the pts coloured by class predicition#\n",
    "\n",
    "#preds are boolian (True/False) based on perceptron classifer\n",
    "preds = perceptron(data)\n",
    "\n",
    "\n",
    "#plot these classifications\n",
    "perceptron_plot(preds)"
   ]
  },
  {
   "cell_type": "code",
   "execution_count": 7,
   "metadata": {},
   "outputs": [
    {
     "data": {
      "image/png": "[encoded data removed]",
      "text/plain": [
       "<Figure size 432x288 with 1 Axes>"
      ]
     },
     "metadata": {
      "needs_background": "light"
     },
     "output_type": "display_data"
    }
   ],
   "source": [
    "#if I use different values for the weights and bias, then we'll get a different decision boundary.\n",
    "\n",
    "# Update the weights and bias and re-plot\n",
    "weights.assign_sub([1.2, 0.3]) # subtacting from original weight\n",
    "bias.assign_add([0.4]) #adding to orginal bias\n",
    "\n",
    "preds = perceptron(data)\n",
    "#plot these classifications\n",
    "perceptron_plot(preds)"
   ]
  },
  {
   "cell_type": "markdown",
   "metadata": {},
   "source": [
    "## Creating My Own (low-level) Layer - Subclassing Layer Class\n",
    "\n",
    "The `Dense` class inherits from the base [`Layer` class](https://www.tensorflow.org/api_docs/python/tf/keras/layers/Layer), which is core to the high level Keras API in TensorFlow. `Layer` objects encapsulate a state (the layer parameters) and the computation that is carried out by the layer. \n",
    "\n",
    "An example implementation of an affine transformation layer is shown below as a subclass of `Layer`."
   ]
  },
  {
   "cell_type": "code",
   "execution_count": 8,
   "metadata": {},
   "outputs": [],
   "source": [
    "#define a Affine Transformation Layer - which subclasses from super class, Layer!\n",
    "\n",
    "from tensorflow.keras.layers import Layer \n",
    "\n",
    "#inheriting from Layer \n",
    "class Affine(Layer):\n",
    "    \n",
    "    #define constructor s.t we run constructor from super class (Layer) and create our weight, bias and a counter variable\n",
    "    def __init__(self, units, input_dim, name='affine_1'):\n",
    "        super(Affine, self).__init__(name=name)\n",
    "        \n",
    "        self.counter = tf.Variable(0, name='counter', dtype=tf.int32, trainable=False)\n",
    "        \n",
    "        #initalise our weight with shortcut fun!\n",
    "        w_init = tf.random_normal_initializer()\n",
    "        #weights must have shape (input_dim, units) s.t the operation x.w can be computed. x.shape=(batch_dim, input_dim)!\n",
    "        self.w = tf.Variable(initial_value=w_init(shape=(input_dim, units), dtype='float32'), name='kernal', trainable=True)\n",
    "        \n",
    "        #bias\n",
    "        b_init = tf.zeros_initializer()\n",
    "        #bias must have shape (units,) since x.w produces shape (batch_dims, units). thus final axes has to align!\n",
    "        self.b = tf.Variable(initial_value=b_init(shape=(units,), dtype='float32'), \n",
    "                             trainable=True, name='bias')\n",
    "        \n",
    "        \n",
    "    def call(self, inputs):\n",
    "        # the computation that this layer works out is called in the call method.\n",
    "        # NOTE: inputs already has the batch dim included i.e inputs.shape=(batch_dim, input_shape)\n",
    "        # KEY NOTE: input_shape-whole shape. input_dim=input_shape[-1] its the number of dims! i.e. inputs=(1,2,3)\n",
    "        # give batch_dim=1, input_shape=(2,3) and input_dims=3\n",
    "        \n",
    "        #calculate the affine transformation\n",
    "        self.counter.assign_add(1) #increment counter\n",
    "        return tf.matmul(inputs, self.w) + self.b"
   ]
  },
  {
   "cell_type": "code",
   "execution_count": 9,
   "metadata": {},
   "outputs": [
    {
     "data": {
      "text/plain": [
       "[<tf.Variable 'kernal:0' shape=(2, 3) dtype=float32, numpy=\n",
       " array([[-3.4054305e-02, -6.7597292e-02,  9.0504058e-02],\n",
       "        [-2.9514626e-02,  2.4642589e-02,  1.7732485e-06]], dtype=float32)>,\n",
       " <tf.Variable 'bias:0' shape=(3,) dtype=float32, numpy=array([0., 0., 0.], dtype=float32)>,\n",
       " <tf.Variable 'counter:0' shape=() dtype=int32, numpy=0>]"
      ]
     },
     "execution_count": 9,
     "metadata": {},
     "output_type": "execute_result"
    }
   ],
   "source": [
    "# Create an INSTANCE of the Affine layer class\n",
    "affine = Affine(units=3, input_dim=2)\n",
    "\n",
    "#show all the variables in our affine layer\n",
    "affine.weights"
   ]
  },
  {
   "cell_type": "code",
   "execution_count": 10,
   "metadata": {},
   "outputs": [
    {
     "data": {
      "text/plain": [
       "<tf.Tensor: shape=(1, 3), dtype=float32, numpy=array([[-0.06356893, -0.04295471,  0.09050583]], dtype=float32)>"
      ]
     },
     "execution_count": 10,
     "metadata": {},
     "output_type": "execute_result"
    }
   ],
   "source": [
    "# CALL the affine layer on an input\n",
    "\n",
    "affine(inputs=tf.ones([1, 2])) #batch dim=1 length=2 i.e this vector is (1,1)\n",
    "\n",
    "#our weights will have shape (input_dim, units)=(2,3)\n",
    "#therefore our output will have shape (batch_dim, input_dim)(input_dim, units)=(batch_dim, units)\n",
    "#as expected the output is a (1,3) tensor - 1 for the batch size and 3 for the number of neurons in our data"
   ]
  },
  {
   "cell_type": "markdown",
   "metadata": {},
   "source": [
    "#### Build Method \n",
    "\n",
    "Note that for our `Affine` layer class we need to supply both input and output dimensions, but for the `Dense` layer class the input dimension is inferred when the layer is first called. \n",
    "\n",
    "we can change this by creating the build method\n",
    "It is good practice to defer creation of the weights using the `build` method:"
   ]
  },
  {
   "cell_type": "code",
   "execution_count": 11,
   "metadata": {},
   "outputs": [],
   "source": [
    "# Create an Affine layer class that defers creation of the weights \n",
    "\n",
    "class NewAffine(Layer):\n",
    "    \n",
    "    def __init__(self, units, name='affine'): #no longer have input dimension\n",
    "        #call superclass initialiser\n",
    "        super(NewAffine, self).__init__(name=name)\n",
    "        #create class variable 'units'- to store the number of neurons\n",
    "        self.units = units\n",
    "        \n",
    "    def build(self, input_shape): # This build method will only be called once the layer needs to be built\n",
    "        \n",
    "        # add_weight is a method in the Layer (superclass) which adds/creates a new variable\n",
    "        # we extract the input dim from the input shape (size of the last dim)\n",
    "        self.w = self.add_weight(shape=(input_shape[-1], self.units), initializer='random_normal') \n",
    "        self.b = self.add_weight(shape=(self.units,), initializer='zeros')\n",
    "        \n",
    "    def call(self, inputs):\n",
    "        return tf.matmul(inputs, self.w) + self.b"
   ]
  },
  {
   "cell_type": "code",
   "execution_count": 12,
   "metadata": {},
   "outputs": [],
   "source": [
    "# Create an INSTANCE of the Affine layer class\n",
    "\n",
    "new_affine = NewAffine(units=3)"
   ]
  },
  {
   "cell_type": "code",
   "execution_count": 13,
   "metadata": {},
   "outputs": [
    {
     "data": {
      "text/plain": [
       "<tf.Tensor: shape=(1, 3), dtype=float32, numpy=array([[ 0.01377805, -0.08132357, -0.13263357]], dtype=float32)>"
      ]
     },
     "execution_count": 13,
     "metadata": {},
     "output_type": "execute_result"
    }
   ],
   "source": [
    "# CALL the affine layer on an input\n",
    "\n",
    "new_affine(inputs=tf.ones([1,2]))\n",
    "\n",
    "#again output shape=(batch_dim, units) as expected"
   ]
  },
  {
   "cell_type": "code",
   "execution_count": 14,
   "metadata": {},
   "outputs": [
    {
     "data": {
      "text/plain": [
       "[<tf.Variable 'affine/Variable:0' shape=(2, 3) dtype=float32, numpy=\n",
       " array([[ 0.0363901 , -0.0100138 , -0.06302095],\n",
       "        [-0.02261206, -0.07130978, -0.06961261]], dtype=float32)>,\n",
       " <tf.Variable 'affine/Variable:0' shape=(3,) dtype=float32, numpy=array([0., 0., 0.], dtype=float32)>]"
      ]
     },
     "execution_count": 14,
     "metadata": {},
     "output_type": "execute_result"
    }
   ],
   "source": [
    "# Inspect the weights\n",
    "new_affine.weights\n",
    "\n",
    "#as expected weights.shape=(input_dims, units)"
   ]
  },
  {
   "cell_type": "markdown",
   "metadata": {},
   "source": [
    "#### Now creating a very simple MLP using My (low-Level) Affine Layer "
   ]
  },
  {
   "cell_type": "code",
   "execution_count": 15,
   "metadata": {},
   "outputs": [],
   "source": [
    "from tensorflow.keras.models import Sequential\n",
    "\n",
    "#just two Affine Layers with three neurons\n",
    "model = Sequential([\n",
    "    NewAffine(units=3, name='aff_1'),\n",
    "    NewAffine(units=3, name='aff_2'),\n",
    "    \n",
    "])"
   ]
  },
  {
   "cell_type": "code",
   "execution_count": 16,
   "metadata": {},
   "outputs": [],
   "source": [
    "# Call the model on an input to create the weights\n",
    "\n",
    "x = tf.random.normal((2, 6)) # rank 2 tensor - batch_dim=2 and length of each batch is rank-1 tensor of length 6\n",
    "y = model(x)"
   ]
  },
  {
   "cell_type": "code",
   "execution_count": 17,
   "metadata": {},
   "outputs": [
    {
     "data": {
      "text/plain": [
       "[<tf.Variable 'aff_1/Variable:0' shape=(6, 3) dtype=float32, numpy=\n",
       " array([[ 0.12045969, -0.04524912, -0.07895038],\n",
       "        [ 0.01315376,  0.04786119, -0.03313734],\n",
       "        [ 0.053732  ,  0.02817422,  0.03171282],\n",
       "        [ 0.0142214 , -0.05856531, -0.04454268],\n",
       "        [-0.0466736 , -0.03383939,  0.04506366],\n",
       "        [-0.06021134,  0.04555295, -0.04732353]], dtype=float32)>,\n",
       " <tf.Variable 'aff_1/Variable:0' shape=(3,) dtype=float32, numpy=array([0., 0., 0.], dtype=float32)>,\n",
       " <tf.Variable 'aff_2/Variable:0' shape=(3, 3) dtype=float32, numpy=\n",
       " array([[ 0.10590549, -0.03225996,  0.03352259],\n",
       "        [ 0.00628021,  0.02640208, -0.04844187],\n",
       "        [ 0.07966795,  0.07323718, -0.04244522]], dtype=float32)>,\n",
       " <tf.Variable 'aff_2/Variable:0' shape=(3,) dtype=float32, numpy=array([0., 0., 0.], dtype=float32)>]"
      ]
     },
     "execution_count": 17,
     "metadata": {},
     "output_type": "execute_result"
    }
   ],
   "source": [
    "# Inspect the model parameters\n",
    "model.weights"
   ]
  },
  {
   "cell_type": "code",
   "execution_count": 18,
   "metadata": {},
   "outputs": [
    {
     "name": "stdout",
     "output_type": "stream",
     "text": [
      "Model: \"sequential\"\n",
      "_________________________________________________________________\n",
      "Layer (type)                 Output Shape              Param #   \n",
      "=================================================================\n",
      "aff_1 (NewAffine)            (2, 3)                    21        \n",
      "_________________________________________________________________\n",
      "aff_2 (NewAffine)            (2, 3)                    12        \n",
      "=================================================================\n",
      "Total params: 33\n",
      "Trainable params: 33\n",
      "Non-trainable params: 0\n",
      "_________________________________________________________________\n"
     ]
    }
   ],
   "source": [
    "model.summary()"
   ]
  },
  {
   "cell_type": "code",
   "execution_count": 19,
   "metadata": {},
   "outputs": [
    {
     "data": {
      "text/plain": [
       "<tf.Variable 'aff_2/Variable:0' shape=(3, 3) dtype=float32, numpy=\n",
       "array([[ 0.10590549, -0.03225996,  0.03352259],\n",
       "       [ 0.00628021,  0.02640208, -0.04844187],\n",
       "       [ 0.07966795,  0.07323718, -0.04244522]], dtype=float32)>"
      ]
     },
     "execution_count": 19,
     "metadata": {},
     "output_type": "execute_result"
    }
   ],
   "source": [
    "#we can access first layer kernal(weight matrix)\n",
    "model.layers[1].w"
   ]
  },
  {
   "cell_type": "markdown",
   "metadata": {},
   "source": [
    "# MLP - MNIST Dataset"
   ]
  },
  {
   "cell_type": "code",
   "execution_count": 20,
   "metadata": {},
   "outputs": [],
   "source": [
    "# Load the MNIST dataset\n",
    "\n",
    "(x_train, y_train), (x_test, y_test) = tf.keras.datasets.mnist.load_data()"
   ]
  },
  {
   "cell_type": "code",
   "execution_count": 21,
   "metadata": {},
   "outputs": [
    {
     "data": {
      "image/png": "[encoded data removed]",
      "text/plain": [
       "<Figure size 1008x576 with 15 Axes>"
      ]
     },
     "metadata": {
      "needs_background": "light"
     },
     "output_type": "display_data"
    }
   ],
   "source": [
    "#View some examples in the dataset\n",
    "\n",
    "n_rows, n_cols = 3, 5\n",
    "random_inx = np.random.choice(x_train.shape[0], n_rows * n_cols, replace=False)\n",
    "fig, axes = plt.subplots(n_rows, n_cols, figsize=(14, 8))\n",
    "fig.subplots_adjust(hspace=0.2, wspace=0.1)\n",
    "\n",
    "for n, i in enumerate(random_inx):\n",
    "    row = n // n_cols\n",
    "    col = n % n_cols\n",
    "    axes[row, col].imshow(x_train[i])\n",
    "    axes[row, col].get_xaxis().set_visible(False)\n",
    "    axes[row, col].get_yaxis().set_visible(False)\n",
    "    axes[row, col].text(10., -1.5, f'Digit {y_train[i]}')\n",
    "plt.show()"
   ]
  },
  {
   "cell_type": "code",
   "execution_count": 24,
   "metadata": {},
   "outputs": [
    {
     "name": "stdout",
     "output_type": "stream",
     "text": [
      "Model: \"sequential_2\"\n",
      "_________________________________________________________________\n",
      "Layer (type)                 Output Shape              Param #   \n",
      "=================================================================\n",
      "flatten_2 (Flatten)          (None, 784)               0         \n",
      "_________________________________________________________________\n",
      "dense_3 (Dense)              (None, 64)                50240     \n",
      "_________________________________________________________________\n",
      "dense_4 (Dense)              (None, 64)                4160      \n",
      "_________________________________________________________________\n",
      "dense_5 (Dense)              (None, 10)                650       \n",
      "=================================================================\n",
      "Total params: 55,050\n",
      "Trainable params: 55,050\n",
      "Non-trainable params: 0\n",
      "_________________________________________________________________\n"
     ]
    }
   ],
   "source": [
    "# Create an MNIST classifier model\n",
    "\n",
    "# input images have dim 28x28. Dense layers requires inputs to be 1 dim array. \n",
    "# Flatten unrolls into 1 dim array of length 784 (28x28)\n",
    "from tensorflow.keras.layers import Flatten, Dense\n",
    "\n",
    "mnist_model = Sequential([\n",
    "    Flatten(input_shape=(28,28)),\n",
    "    Dense(64, activation='tanh'),\n",
    "    Dense(64, activation='tanh'),\n",
    "    Dense(10, activation='softmax') # last layer needs 10 neurons, 1 for each digit and use soft max (multi-classification)\n",
    "])\n",
    "\n",
    "mnist_model.summary()"
   ]
  },
  {
   "cell_type": "code",
   "execution_count": 25,
   "metadata": {},
   "outputs": [
    {
     "data": {
      "text/plain": [
       "array([5, 0, 4, ..., 5, 6, 8], dtype=uint8)"
      ]
     },
     "execution_count": 25,
     "metadata": {},
     "output_type": "execute_result"
    }
   ],
   "source": [
    "y_train"
   ]
  },
  {
   "cell_type": "markdown",
   "metadata": {},
   "source": [
    "As our labels `y_train` and `y_test` are in sparse form (ie just the interger - whereas categorical_crossentropy would expect an array with a one in the place of the interger that it has been classsed as, known as a one-hot format), we use the `sparse_categorical_crossentropy` loss function. We also will use the stochastic gradient descent (SGD) optimiser.\n",
    "\n",
    "* If your true labels, Yi's, are **one-hot encoded**, use **categorical_crossentropy**. Examples (for a 3-class classification): [1,0,0] , [0,1,0], [0,0,1]\n",
    "\n",
    "* But if your true label's, Yi's, are **integers**, use **sparse_categorical_crossentropy**. Examples for above 3-class classification problem: [1] , [2], [3]"
   ]
  },
  {
   "cell_type": "code",
   "execution_count": 26,
   "metadata": {},
   "outputs": [],
   "source": [
    "#compile it - optimizer and loss fun\n",
    "\n",
    "mnist_model.compile(loss='sparse_categorical_crossentropy', optimizer='SGD', metrics=['accuracy'])"
   ]
  },
  {
   "cell_type": "code",
   "execution_count": 27,
   "metadata": {},
   "outputs": [],
   "source": [
    "#The image data is filled with integer pixel values from 0 to 255. \n",
    "#To facilitate the training, we RESCALE the values to the interval [0, 1].\n",
    "\n",
    "# Rescale the image data\n",
    "\n",
    "x_train = x_train/255\n",
    "x_test = x_test/255"
   ]
  },
  {
   "cell_type": "code",
   "execution_count": 28,
   "metadata": {},
   "outputs": [
    {
     "name": "stdout",
     "output_type": "stream",
     "text": [
      "Epoch 1/10\n",
      "938/938 [==============================] - 1s 2ms/step - loss: 0.8553 - accuracy: 0.7854\n",
      "Epoch 2/10\n",
      "938/938 [==============================] - 1s 1ms/step - loss: 0.4154 - accuracy: 0.8889\n",
      "Epoch 3/10\n",
      "938/938 [==============================] - 1s 1ms/step - loss: 0.3434 - accuracy: 0.9043\n",
      "Epoch 4/10\n",
      "938/938 [==============================] - 1s 1ms/step - loss: 0.3084 - accuracy: 0.9123\n",
      "Epoch 5/10\n",
      "938/938 [==============================] - 1s 1ms/step - loss: 0.2849 - accuracy: 0.9187\n",
      "Epoch 6/10\n",
      "938/938 [==============================] - 1s 1ms/step - loss: 0.2668 - accuracy: 0.9235\n",
      "Epoch 7/10\n",
      "938/938 [==============================] - 1s 1ms/step - loss: 0.2518 - accuracy: 0.9275\n",
      "Epoch 8/10\n",
      "938/938 [==============================] - 1s 1ms/step - loss: 0.2385 - accuracy: 0.9312\n",
      "Epoch 9/10\n",
      "938/938 [==============================] - 1s 1ms/step - loss: 0.2267 - accuracy: 0.9350\n",
      "Epoch 10/10\n",
      "938/938 [==============================] - 1s 1ms/step - loss: 0.2156 - accuracy: 0.9380\n"
     ]
    }
   ],
   "source": [
    "#fit model - i.e. conduct training\n",
    "\n",
    "#Its history.history attribute is a record of training loss values and metrics values at successive epochs.\n",
    "#ONE epoch is one FULL run through the training data! (we divide our training data into batches of size 64\n",
    "#after each batch model parameters are updated-i.e. In the backwards pass we sum up the per example grad of\n",
    "#losses therefore in this case the sum would be over 64!)\n",
    "\n",
    "\n",
    "history = mnist_model.fit(x_train, y_train, epochs=10, batch_size=64) "
   ]
  },
  {
   "cell_type": "code",
   "execution_count": 29,
   "metadata": {},
   "outputs": [
    {
     "name": "stdout",
     "output_type": "stream",
     "text": [
      "313/313 [==============================] - 0s 2ms/step - loss: 0.2118 - accuracy: 0.9394\n"
     ]
    },
    {
     "data": {
      "text/plain": [
       "[0.21181152760982513, 0.9394000172615051]"
      ]
     },
     "execution_count": 29,
     "metadata": {},
     "output_type": "execute_result"
    }
   ],
   "source": [
    "# Evaluate the model on the test set\n",
    "\n",
    "mnist_model.evaluate(x_test, y_test)"
   ]
  },
  {
   "cell_type": "code",
   "execution_count": 30,
   "metadata": {},
   "outputs": [
    {
     "data": {
      "text/plain": [
       "(10000, 10)"
      ]
     },
     "execution_count": 30,
     "metadata": {},
     "output_type": "execute_result"
    }
   ],
   "source": [
    "# Get predictions from model\n",
    "\n",
    "preds = mnist_model.predict(x_test)\n",
    "preds.shape\n"
   ]
  },
  {
   "cell_type": "code",
   "execution_count": 33,
   "metadata": {},
   "outputs": [
    {
     "data": {
      "text/plain": [
       "array([1.5529037e-04, 9.5696223e-06, 1.1050346e-03, 4.1550552e-03,\n",
       "       1.2312905e-05, 3.0174981e-05, 3.3539604e-07, 9.9353254e-01,\n",
       "       1.2517146e-04, 8.7442488e-04], dtype=float32)"
      ]
     },
     "execution_count": 33,
     "metadata": {},
     "output_type": "execute_result"
    }
   ],
   "source": [
    "preds[0]"
   ]
  },
  {
   "cell_type": "code",
   "execution_count": 31,
   "metadata": {},
   "outputs": [
    {
     "data": {
      "image/png": "[encoded data removed]",
      "text/plain": [
       "<Figure size 1152x864 with 8 Axes>"
      ]
     },
     "metadata": {
      "needs_background": "light"
     },
     "output_type": "display_data"
    }
   ],
   "source": [
    "# Plot some predicted categorical distributions\n",
    "\n",
    "# gets probabilites for 4 randomly selected images from the test set and it \n",
    "# is going to display these images along with the predictive distribution of the model\n",
    "# and the correct label\n",
    "\n",
    "num_test_images = x_test.shape[0]\n",
    "\n",
    "random_inx = np.random.choice(num_test_images, 4)\n",
    "random_preds = preds[random_inx, ...]\n",
    "random_test_images = x_test[random_inx, ...]\n",
    "random_test_labels = y_test[random_inx, ...]\n",
    "\n",
    "fig, axes = plt.subplots(4, 2, figsize=(16, 12))\n",
    "fig.subplots_adjust(hspace=0.4, wspace=-0.2)\n",
    "\n",
    "for i, (prediction, image, label) in enumerate(zip(random_preds, random_test_images, random_test_labels)):\n",
    "    axes[i, 0].imshow(np.squeeze(image))\n",
    "    axes[i, 0].get_xaxis().set_visible(False)\n",
    "    axes[i, 0].get_yaxis().set_visible(False)\n",
    "    axes[i, 0].text(10., -1.5, f'Digit {label}')\n",
    "    axes[i, 1].bar(np.arange(len(prediction)), prediction)\n",
    "    axes[i, 1].set_xticks(np.arange(len(prediction)))\n",
    "    axes[i, 1].set_title(f\"Categorical distribution. Model prediction: {np.argmax(prediction)}\")\n",
    "plt.show()"
   ]
  },
  {
   "cell_type": "code",
   "execution_count": null,
   "metadata": {},
   "outputs": [],
   "source": []
  }
 ],
 "metadata": {
  "kernelspec": {
   "display_name": "Python 3",
   "language": "python",
   "name": "python3"
  },
  "language_info": {
   "codemirror_mode": {
    "name": "ipython",
    "version": 3
   },
   "file_extension": ".py",
   "mimetype": "text/x-python",
   "name": "python",
   "nbconvert_exporter": "python",
   "pygments_lexer": "ipython3",
   "version": "3.8.3"
  }
 },
 "nbformat": 4,
 "nbformat_minor": 4
}
