{
 "cells": [
  {
   "cell_type": "code",
   "execution_count": 1,
   "metadata": {},
   "outputs": [
    {
     "name": "stdout",
     "output_type": "stream",
     "text": [
      "0.11.0\n"
     ]
    }
   ],
   "source": [
    "import tensorflow as tf\n",
    "import tensorflow_probability as tfp\n",
    "tfd = tfp.distributions\n",
    "\n",
    "print(tfp.__version__)\n",
    "\n",
    "\n",
    "import numpy as np\n",
    "import matplotlib.pyplot as plt"
   ]
  },
  {
   "cell_type": "markdown",
   "metadata": {},
   "source": [
    "The following shows the ordering of shapes that we should always keep in mind when working with `Distribution` objects:\n",
    "\n",
    "`(sample_shape, batch_shape, event_shape)` \n",
    "\n",
    "* `sample_shape` = number of samples (drawn from dist)\n",
    "* `batch_shape` = number of distributions (in the batch)\n",
    "* `event_shape` = number of dims/variables in the p.d.f"
   ]
  },
  {
   "cell_type": "markdown",
   "metadata": {},
   "source": [
    "#### Univariate distributions - (One Random Variable)\n",
    "We will first create some univariate distributions. There is a wide range of distributions available in the [distributions module](https://www.tensorflow.org/probability/api_docs/python/tfp/distributions), of which we will only be using a few."
   ]
  },
  {
   "cell_type": "code",
   "execution_count": 2,
   "metadata": {},
   "outputs": [
    {
     "data": {
      "text/plain": [
       "<tfp.distributions.Normal 'Normal' batch_shape=[] event_shape=[] dtype=float32>"
      ]
     },
     "execution_count": 2,
     "metadata": {},
     "output_type": "execute_result"
    }
   ],
   "source": [
    "#create a normal distribution \n",
    "# loc=mean, scale=variance (std^2)\n",
    "\n",
    "normal = tfd.Normal(loc=0., scale=1.)\n",
    "normal"
   ]
  },
  {
   "cell_type": "markdown",
   "metadata": {},
   "source": [
    "we can sample using the `.sample` method - specifying the dims of sample"
   ]
  },
  {
   "cell_type": "code",
   "execution_count": 3,
   "metadata": {},
   "outputs": [
    {
     "name": "stdout",
     "output_type": "stream",
     "text": [
      "tf.Tensor(-0.114451244, shape=(), dtype=float32)\n",
      "tf.Tensor([ 0.22345205  0.32086685 -0.59994525  0.5102353  -0.07895499], shape=(5,), dtype=float32)\n",
      "tf.Tensor(\n",
      "[[ 2.2094517   0.7331362   1.2682858 ]\n",
      " [-0.17111431 -0.81430364 -1.0971591 ]], shape=(2, 3), dtype=float32)\n"
     ]
    }
   ],
   "source": [
    "single_sample = normal.sample()\n",
    "print(single_sample)\n",
    "\n",
    "multiple_samples = normal.sample(5)\n",
    "print(multiple_samples)\n",
    "\n",
    "multi_dim_sample = normal.sample((2,3))\n",
    "print(multi_dim_sample)\n",
    "\n",
    "#each elm is a value sampled from the normal dist we created"
   ]
  },
  {
   "cell_type": "code",
   "execution_count": 8,
   "metadata": {},
   "outputs": [
    {
     "data": {
      "image/png": "[encoded data removed]",
      "text/plain": [
       "<Figure size 432x288 with 1 Axes>"
      ]
     },
     "metadata": {
      "needs_background": "light"
     },
     "output_type": "display_data"
    }
   ],
   "source": [
    "# Plot some samples\n",
    "\n",
    "import matplotlib.pyplot as plt\n",
    "\n",
    "z = normal.sample(10000).numpy()\n",
    "plt.hist(z, bins=50, density=True)\n",
    "plt.show()"
   ]
  },
  {
   "cell_type": "markdown",
   "metadata": {},
   "source": [
    "`.prob` Method of a `Distribution` Object gives the value of the p.d.f at a certain value. Remember that this is not a probability, instead it is just the gradient of the cdf at that pt! \n",
    "If the value is small it tells you the change in the cdf at this point is small which indicates values we observe from our random variable are unlikely to fall around this point! (likelihood is small).\n",
    "\n",
    "the `.log_prob` Method computes the log of this value! "
   ]
  },
  {
   "cell_type": "code",
   "execution_count": 10,
   "metadata": {},
   "outputs": [
    {
     "name": "stdout",
     "output_type": "stream",
     "text": [
      "tf.Tensor(0.3989423, shape=(), dtype=float32)\n",
      "tf.Tensor(-0.9189385, shape=(), dtype=float32)\n"
     ]
    }
   ],
   "source": [
    "# Compute prob / log-prob of test points\n",
    "#computes the value of the probability density function at a particular value! remember this is not a probabilty, \n",
    "#its just the gradient of the cdf at that pt\n",
    "\n",
    "#calculate the p.d.f of normal at the pt zero! - this is NOT the probability of getting zero (as that is zero for cont. var)\n",
    "print(normal.prob(0))\n",
    "#calculate the log prob (i.e the log(prob))\n",
    "print(normal.log_prob(0))\n"
   ]
  },
  {
   "cell_type": "code",
   "execution_count": 4,
   "metadata": {},
   "outputs": [
    {
     "data": {
      "text/plain": [
       "<tf.Tensor: shape=(3, 2), dtype=float32, numpy=\n",
       "array([[-0.9765985, -1.2587631],\n",
       "       [-1.2480748, -1.4868529],\n",
       "       [-0.9646536, -0.9204349]], dtype=float32)>"
      ]
     },
     "execution_count": 4,
     "metadata": {},
     "output_type": "execute_result"
    }
   ],
   "source": [
    "# Compute log-prob of a batch of test points\n",
    "\n",
    "# create test points of shape (3,2)\n",
    "test_pts = tf.random.normal((3,2))\n",
    "\n",
    "#feed each one into p.d.f then take log\n",
    "normal.log_prob(test_pts)"
   ]
  },
  {
   "cell_type": "markdown",
   "metadata": {},
   "source": [
    "A single `Distribution` object can represent a batch of distributions of the same type:"
   ]
  },
  {
   "cell_type": "code",
   "execution_count": 5,
   "metadata": {},
   "outputs": [
    {
     "data": {
      "text/plain": [
       "<tfp.distributions.Exponential 'Exponential' batch_shape=[] event_shape=[] dtype=float32>"
      ]
     },
     "execution_count": 5,
     "metadata": {},
     "output_type": "execute_result"
    }
   ],
   "source": [
    "# Create an exponential distribution\n",
    "\n",
    "exp = tfd.Exponential(rate=1)\n",
    "exp\n",
    "#single exponential dist - both batch_shape and event_shape is empty"
   ]
  },
  {
   "cell_type": "code",
   "execution_count": 6,
   "metadata": {},
   "outputs": [
    {
     "data": {
      "text/plain": [
       "<tfp.distributions.Exponential 'Exponential' batch_shape=[3] event_shape=[] dtype=float32>"
      ]
     },
     "execution_count": 6,
     "metadata": {},
     "output_type": "execute_result"
    }
   ],
   "source": [
    "# Create a batched exponential distribution - we have three seperate distributions with different rates, batched together \n",
    "\n",
    "batch_of_exps = tfd.Exponential(rate=[0.5,1.0,1.5]) #<-- feed in multiple rates \n",
    "batch_of_exps\n",
    "# batch_shape = 3 meaning we have 3 exps in this batch "
   ]
  },
  {
   "cell_type": "code",
   "execution_count": 7,
   "metadata": {},
   "outputs": [
    {
     "data": {
      "text/plain": [
       "<tf.Tensor: shape=(3,), dtype=float32, numpy=array([0.2626081 , 0.35671028, 0.23322318], dtype=float32)>"
      ]
     },
     "execution_count": 7,
     "metadata": {},
     "output_type": "execute_result"
    }
   ],
   "source": [
    "#now lets take a sample!\n",
    "\n",
    "batch_of_exps.sample()\n",
    "\n",
    "#we get three values- one from each dist"
   ]
  },
  {
   "cell_type": "code",
   "execution_count": 18,
   "metadata": {},
   "outputs": [
    {
     "data": {
      "text/plain": [
       "<tf.Tensor: shape=(5, 3), dtype=float32, numpy=\n",
       "array([[5.8114295 , 0.2752337 , 0.12167787],\n",
       "       [2.4361832 , 1.1829559 , 0.719439  ],\n",
       "       [3.2626817 , 1.9151893 , 0.8667169 ],\n",
       "       [3.669655  , 1.0301782 , 1.2128085 ],\n",
       "       [1.5552225 , 0.1835979 , 0.8388686 ]], dtype=float32)>"
      ]
     },
     "execution_count": 18,
     "metadata": {},
     "output_type": "execute_result"
    }
   ],
   "source": [
    "#now taking multiple samples\n",
    "\n",
    "batch_of_exps.sample(5) #<-- taking 5 samples from each dist - so should get shape (5, 3) - each column reps a dist"
   ]
  },
  {
   "cell_type": "markdown",
   "metadata": {},
   "source": [
    "##### BroadCasting \n",
    "\n",
    "lets see it through computing log_probs of a batched dist"
   ]
  },
  {
   "cell_type": "code",
   "execution_count": 8,
   "metadata": {},
   "outputs": [
    {
     "name": "stdout",
     "output_type": "stream",
     "text": [
      "tf.Tensor([-1.0674007  -0.7485069  -0.71729517], shape=(3,), dtype=float32)\n",
      "\n",
      "tf.Tensor([-1.0674007], shape=(1,), dtype=float32)\n",
      "tf.Tensor([-0.7485069], shape=(1,), dtype=float32)\n",
      "tf.Tensor([-0.71729517], shape=(1,), dtype=float32)\n"
     ]
    }
   ],
   "source": [
    "#create a single test pt\n",
    "single_pt = tf.random.uniform(())\n",
    "\n",
    "# send this pt to our batched dist and work out the log_prob\n",
    "print(batch_of_exps.log_prob(single_pt), end=2*'\\n')\n",
    "\n",
    "#whats happening? - well its taking that single point and broadcasting it across each dist in our batch. \n",
    "#i.e. tf works out the log_prob of our single pt for each dist in our batch. Hence we get a (3,) tensor!\n",
    "\n",
    "#illistrating\n",
    "#create each of our exps in our batch seperatly\n",
    "exp_0_5 = tfd.Exponential(rate=[0.5])\n",
    "exp_1 = tfd.Exponential(rate=[1.])\n",
    "exp_1_5 = tfd.Exponential(rate=[1.5])\n",
    "\n",
    "print(exp_0_5.log_prob(single_pt))\n",
    "print(exp_1.log_prob(single_pt))\n",
    "print(exp_1_5.log_prob(single_pt))"
   ]
  },
  {
   "cell_type": "code",
   "execution_count": 9,
   "metadata": {},
   "outputs": [
    {
     "name": "stdout",
     "output_type": "stream",
     "text": [
      "tf.Tensor([-0.82575005 -0.11042738 -0.35336366], shape=(3,), dtype=float32)\n",
      "tf.Tensor([-0.82575005], shape=(1,), dtype=float32)\n",
      "tf.Tensor([-0.11042738], shape=(1,), dtype=float32)\n",
      "tf.Tensor([-0.35336366], shape=(1,), dtype=float32)\n"
     ]
    }
   ],
   "source": [
    "# now we create test_pts that is SAME dim as number of dist - and work out log_prob\n",
    "\n",
    "test_pts = tf.random.uniform((3, ))\n",
    "print(batch_of_exps.log_prob(test_pts))\n",
    "\n",
    "#illistration\n",
    "print(exp_0_5.log_prob(test_pts[0]))\n",
    "print(exp_1.log_prob(test_pts[1]))\n",
    "print(exp_1_5.log_prob(test_pts[2]))\n",
    "\n",
    "#now one pt is sent to one dist! (1st to the 1st, 2nd to the 2nd, ... ) - no broadcasting! "
   ]
  },
  {
   "cell_type": "code",
   "execution_count": 13,
   "metadata": {},
   "outputs": [
    {
     "name": "stdout",
     "output_type": "stream",
     "text": [
      "test_pts tf.Tensor(\n",
      "[[0.5486187 ]\n",
      " [0.25150812]\n",
      " [0.33863747]\n",
      " [0.33735406]], shape=(4, 1), dtype=float32)\n",
      "\n",
      "tf.Tensor(\n",
      "[[-0.9674565  -0.5486187  -0.41746292]\n",
      " [-0.81890124 -0.25150812  0.02820292]\n",
      " [-0.8624659  -0.33863747 -0.10249111]\n",
      " [-0.8618242  -0.33735406 -0.100566  ]], shape=(4, 3), dtype=float32)\n",
      "\n",
      "tf.Tensor([-0.9674565], shape=(1,), dtype=float32)\n",
      "tf.Tensor([-0.33735406], shape=(1,), dtype=float32)\n",
      "tf.Tensor([-0.10249111], shape=(1,), dtype=float32)\n"
     ]
    }
   ],
   "source": [
    "# when the dim of the test_pts is higher than the number of distributions in the batch\n",
    "# we have to add a batch dim to the number of pts!\n",
    "# then tf will broadcast this whole batch (of four pts) to each of the dists!\n",
    "\n",
    "test_pts = tf.random.uniform((4,1))# <---- Added a batch dim \n",
    "print('test_pts', test_pts, end=2*'\\n')\n",
    "print(batch_of_exps.log_prob(test_pts), end=2*'\\n')\n",
    "\n",
    "\n",
    "#sending our first test pt into our first distribution hence [0, 0] elm\n",
    "print(exp_0_5.log_prob(test_pts[0]))\n",
    "\n",
    "#sending our final test point into our second dist - hence [3,1] elm\n",
    "print(exp_1.log_prob(test_pts[3]))\n",
    "\n",
    "#sending our third test_pt in to our our final dist (exp=1.5) hence [2, 2] elm!!! (remeber counting from zero!)\n",
    "print(exp_1_5.log_prob(test_pts[2]))\n"
   ]
  },
  {
   "cell_type": "markdown",
   "metadata": {},
   "source": [
    "#### Multivariate distributions\n",
    "In the distributions seen so far, the `event_shape` property has been empty, indicating that the distribution is UNIVARIATE (one random variable). Here, we look at multivariate distributions.\n",
    "\n",
    "`event_shape` is the number of dims/variables in the pdf of the distribution!"
   ]
  },
  {
   "cell_type": "code",
   "execution_count": 14,
   "metadata": {},
   "outputs": [
    {
     "data": {
      "text/plain": [
       "<tfp.distributions.MultivariateNormalDiag 'MultivariateNormalDiag' batch_shape=[] event_shape=[2] dtype=float32>"
      ]
     },
     "execution_count": 14,
     "metadata": {},
     "output_type": "execute_result"
    }
   ],
   "source": [
    "# ctreate a multi- variavte (2D) normal dist\n",
    "\n",
    "#it takes the diaginal of the co-variate matrix which is var(x), var(y) - 2d case\n",
    "mvn = tfd.MultivariateNormalDiag(loc=[1., 3.], scale_diag=[1., 2.])\n",
    "mvn\n",
    "\n",
    "#event space is 2d ie f(x1,x2) !! - see seaborn plot below!!!"
   ]
  },
  {
   "cell_type": "code",
   "execution_count": 15,
   "metadata": {},
   "outputs": [
    {
     "data": {
      "text/plain": [
       "<tf.Tensor: shape=(3, 2), dtype=float32, numpy=\n",
       "array([[1.4837075, 2.619496 ],\n",
       "       [1.5060637, 0.4622066],\n",
       "       [1.2953439, 3.3855722]], dtype=float32)>"
      ]
     },
     "execution_count": 15,
     "metadata": {},
     "output_type": "execute_result"
    }
   ],
   "source": [
    "#lets sample!\n",
    "\n",
    "mvn.sample(3)\n",
    "\n",
    "#taking three samples from a 2d dist - hence (3, 2) (remeber its sample_shape, batch_shape, event_shape)\n",
    "#note this isnt batched distributions this is one distribution which is k-dimensional (k=2)\n",
    "# each row is a sample - because its 2d each column represents each rand. var (x1, x2)! "
   ]
  },
  {
   "cell_type": "code",
   "execution_count": 44,
   "metadata": {},
   "outputs": [
    {
     "data": {
      "image/png": "[encoded data removed]",
      "text/plain": [
       "<Figure size 432x288 with 1 Axes>"
      ]
     },
     "metadata": {
      "needs_background": "light"
     },
     "output_type": "display_data"
    }
   ],
   "source": [
    "# Plot samples from the multivariate Gaussian\n",
    "\n",
    "samples = mvn.sample(1000)\n",
    "plt.scatter(samples[:, 0], samples[:,1], alpha=0.5)\n",
    "plt.axis('equal')\n",
    "plt.title('2 Dimensional Normal Dist')\n",
    "plt.xlabel('dim_1 | mean=1 | var=1')\n",
    "plt.ylabel('dim_2 | mean=3 | var=2')\n",
    "plt.show()\n"
   ]
  },
  {
   "cell_type": "code",
   "execution_count": 46,
   "metadata": {},
   "outputs": [
    {
     "data": {
      "text/plain": [
       "<tfp.distributions.MultivariateNormalDiag 'MultivariateNormalDiag' batch_shape=[] event_shape=[2] dtype=float32>"
      ]
     },
     "execution_count": 46,
     "metadata": {},
     "output_type": "execute_result"
    }
   ],
   "source": [
    "# reminder! we have a 2 dimensional normal dist\n",
    "mvn"
   ]
  },
  {
   "cell_type": "code",
   "execution_count": 17,
   "metadata": {},
   "outputs": [
    {
     "data": {
      "text/plain": [
       "<tf.Tensor: shape=(), dtype=float32, numpy=-8.730436>"
      ]
     },
     "execution_count": 17,
     "metadata": {},
     "output_type": "execute_result"
    }
   ],
   "source": [
    "#lets take the log_prob\n",
    "\n",
    "#test_pts 2d (same dim as dist)\n",
    "test_pts = tf.random.normal((2,))\n",
    "\n",
    "#our dist takes 2 variables - so when we plug in these two test pts into the pdf (which takes two variables) \n",
    "#it will give us a scalar (grad of cdf) i.e. f(x_1 =1, x_2 =2) - imagine a flat (because 2d) church bell go \n",
    "#in x dirn (=1) then in y dirn (=2) and find value at that pt! (then take log of it)\n",
    "mvn.log_prob(test_pts)"
   ]
  },
  {
   "cell_type": "markdown",
   "metadata": {},
   "source": [
    "So far, we have seen how to define multivariate Gaussian distributions using `tfd.MultivariateNormalDiag`. This class allows you to specify a multivariate Gaussian with a diagonal covariance matrix $\\sum$\n",
    "\n",
    "In cases where the **variance is the same for each component**, i.e. $ \\sum=\\sigma^2 I$, this is known as a spherical or **isotropic Gaussian**. This name comes from the spherical (or circular) contours (level sets) of its probability density function, as you can see from the plot below for the two-dimensional case."
   ]
  },
  {
   "cell_type": "code",
   "execution_count": 18,
   "metadata": {},
   "outputs": [
    {
     "name": "stdout",
     "output_type": "stream",
     "text": [
      "Covariance Matrix: tf.Tensor(\n",
      "[[1. 0.]\n",
      " [0. 1.]], shape=(2, 2), dtype=float32)\n",
      "mean's: tf.Tensor([0. 0.], shape=(2,), dtype=float32)\n"
     ]
    },
    {
     "name": "stderr",
     "output_type": "stream",
     "text": [
      "C:\\Users\\matth\\anaconda3\\lib\\site-packages\\seaborn\\_decorators.py:36: FutureWarning: Pass the following variables as keyword args: x, y. From version 0.12, the only valid positional argument will be `data`, and passing other arguments without an explicit keyword will result in an error or misinterpretation.\n",
      "  warnings.warn(\n"
     ]
    },
    {
     "data": {
      "image/png": "[encoded data removed]",
      "text/plain": [
       "<Figure size 432x432 with 3 Axes>"
      ]
     },
     "metadata": {
      "needs_background": "light"
     },
     "output_type": "display_data"
    }
   ],
   "source": [
    "# Plot the approximate density contours of a 2d spherical Gaussian\n",
    "\n",
    "import seaborn as sns\n",
    "import matplotlib.pyplot as plt\n",
    "%matplotlib inline\n",
    "\n",
    "spherical_2d_gaussian = tfd.MultivariateNormalDiag(loc = [0., 0.])\n",
    "print('Covariance Matrix:', spherical_2d_gaussian.covariance())\n",
    "print(\"mean's:\", spherical_2d_gaussian.mean())\n",
    "N = 10000\n",
    "x = spherical_2d_gaussian.sample(N)\n",
    "x1 = x[:, 0]\n",
    "x2 = x[:, 1]\n",
    "sns.jointplot(x1, x2, kind = 'kde', space = 0)\n",
    "plt.show()"
   ]
  },
  {
   "cell_type": "markdown",
   "metadata": {},
   "source": [
    "You can define a full covariance Gaussian distribution in TensorFlow using the Distribution `tfd.MultivariateNormalTriL`.\n",
    "\n",
    "Mathematically, the parameters of a multivariate Gaussian are a mean $\\mu$ and a covariance matrix $\\sum$, and so the `tfd.MultivariateNormalTriL` constructor requires two arguments:\n",
    "* loc, a Tensor of floats corresponding to $\\mu$\n",
    "* scale_tril, a lower-triangular matrix $L$ such that $LL^T = \\sum$\n",
    "\n",
    "We can also create a multivariate Gaussian using [`MultivariateNormalTriL`](https://www.tensorflow.org/probability/api_docs/python/tfp/distributions/MultivariateNormalTriL), by passing in the lower triangular matrix $L$ such that $LL^T = \\Sigma$, where $\\Sigma$ is the covariance matrix. This is the Cholesky decomposition (see also [`tf.linalg.cholesky`](https://www.tensorflow.org/api_docs/python/tf/linalg/cholesky))."
   ]
  },
  {
   "cell_type": "code",
   "execution_count": 19,
   "metadata": {},
   "outputs": [
    {
     "data": {
      "text/plain": [
       "<tfp.distributions.MultivariateNormalTriL 'MultivariateNormalTriL' batch_shape=[] event_shape=[2] dtype=float32>"
      ]
     },
     "execution_count": 19,
     "metadata": {},
     "output_type": "execute_result"
    }
   ],
   "source": [
    "# Construct a multivariate (2d) Gaussian with MultivariateNormalTriL\n",
    "\n",
    "mu = [0.,0.]\n",
    "\n",
    "#we are sending in L which can be obtained from co-variance matrix through Cholesky decomp! its a Lower triangular matrix\n",
    "scale_tril = [[1., 0.],\n",
    "             [0.6, 0.8]]\n",
    "nonspherical_2d_gaussian = tfd.MultivariateNormalTriL(loc=mu, scale_tril=scale_tril)\n",
    "nonspherical_2d_gaussian"
   ]
  },
  {
   "cell_type": "code",
   "execution_count": 20,
   "metadata": {},
   "outputs": [
    {
     "name": "stdout",
     "output_type": "stream",
     "text": [
      "tf.Tensor(\n",
      "[[1.  0.6]\n",
      " [0.6 1. ]], shape=(2, 2), dtype=float32)\n",
      "tf.Tensor(\n",
      "[[1.  0.6]\n",
      " [0.6 1. ]], shape=(2, 2), dtype=float32)\n"
     ]
    }
   ],
   "source": [
    "print(nonspherical_2d_gaussian.covariance())\n",
    "\n",
    "#lets check\n",
    "\n",
    "sigma = tf.matmul(tf.constant(scale_tril), tf.transpose(tf.constant(scale_tril)))  # covariance matrix\n",
    "print(sigma)"
   ]
  },
  {
   "cell_type": "code",
   "execution_count": 21,
   "metadata": {},
   "outputs": [
    {
     "data": {
      "image/png": "[encoded data removed]",
      "text/plain": [
       "<Figure size 432x288 with 1 Axes>"
      ]
     },
     "metadata": {
      "needs_background": "light"
     },
     "output_type": "display_data"
    }
   ],
   "source": [
    "# Plot samples from the multivariate Gaussian\n",
    "import matplotlib.pyplot as plt\n",
    "samples = nonspherical_2d_gaussian.sample(1000)\n",
    "plt.scatter(samples[:, 0], samples[:,1], alpha=0.5)\n",
    "plt.axis('equal')\n",
    "plt.title('2 Dimensional Normal Dist ')\n",
    "plt.xlabel('dim_1 | mean=0')\n",
    "plt.ylabel('dim_2 | mean=0')\n",
    "plt.show()"
   ]
  },
  {
   "cell_type": "code",
   "execution_count": 22,
   "metadata": {},
   "outputs": [
    {
     "name": "stderr",
     "output_type": "stream",
     "text": [
      "C:\\Users\\matth\\anaconda3\\lib\\site-packages\\seaborn\\_decorators.py:36: FutureWarning: Pass the following variables as keyword args: x, y. From version 0.12, the only valid positional argument will be `data`, and passing other arguments without an explicit keyword will result in an error or misinterpretation.\n",
      "  warnings.warn(\n"
     ]
    },
    {
     "data": {
      "text/plain": [
       "<seaborn.axisgrid.JointGrid at 0x200733b53a0>"
      ]
     },
     "execution_count": 22,
     "metadata": {},
     "output_type": "execute_result"
    },
    {
     "data": {
      "image/png": "[encoded data removed]",
      "text/plain": [
       "<Figure size 432x432 with 3 Axes>"
      ]
     },
     "metadata": {
      "needs_background": "light"
     },
     "output_type": "display_data"
    }
   ],
   "source": [
    "# Plot its approximate density contours\n",
    "x = nonspherical_2d_gaussian.sample(N)\n",
    "x1 = x[:, 0]\n",
    "x2 = x[:, 1]\n",
    "sns.jointplot(x1, x2, kind = 'kde', space = 0, color = 'r')"
   ]
  },
  {
   "cell_type": "markdown",
   "metadata": {},
   "source": [
    "As you can see, the approximate density contours (level sets) are now elliptical rather than circular. This is because the **components of the Gaussian are correlated** - as the off diagionals which measure **co-variance are non-zero**!!!. For our spherical gaussian the off diagionals were zero indicating no correlation!\n",
    "\n",
    "Also note that the marginal distributions (shown on the sides of the plot) are both univariate Gaussian distributions."
   ]
  },
  {
   "cell_type": "markdown",
   "metadata": {},
   "source": [
    "### The Cholesky decomposition\n",
    "In the above example, we defined the lower triangular matrix $L$ and used that to build the multivariate Gaussian distribution. The covariance matrix is easily computed from $L$ where $LL^T = \\sum$\n",
    "\n",
    "The reason that we define the multivariate Gaussian distribution in this way - as opposed to directly passing in the covariance matrix - is that **not every matrix is a valid covariance matrix**. The covariance matrix must have the following properties:\n",
    "\n",
    "* It is symmetric ($A = A^{T}$)\n",
    "* It is positive (semi-) definite ($M$ is postive semi def if $z^{T}Mz$ is positive for every nonzero real column vector $z$)\n",
    "\n",
    "NB: A symmetric matrix $M∈R^{d×d}$ is positive semi-definite if it satisfies $b^{T}Mb≥0$ for all nonzero $b∈R^{d}$. If, in addition, we have $b^{T}Mb=0⇒b=0$ then $M$ is positive definite. \n",
    "\n",
    "Since, or every real-valued symmetric positive-definite matrix $M$, there is a unique lower-diagonal matrix $L$ that has positive diagonal entries for which $LL^{T}=M$. This is called the Cholesky decomposition of M.\n",
    "\n",
    "The Cholesky decomposition is a useful way of writing a covariance matrix\n",
    "\n",
    "#### `tf.linalg.cholesky`\n",
    "In case you have a valid covariance matrix $\\sigma$ and would like to compute the lower triangular matrix $L$ above to instantiate a `MultivariateNormalTriL` object, this can be done with the `tf.linalg.cholesky` function."
   ]
  },
  {
   "cell_type": "code",
   "execution_count": 23,
   "metadata": {},
   "outputs": [],
   "source": [
    "# Define a symmetric positive-definite matrix\n",
    "sigma = [[10., 5.], [5., 10.]]"
   ]
  },
  {
   "cell_type": "code",
   "execution_count": 24,
   "metadata": {},
   "outputs": [
    {
     "data": {
      "text/plain": [
       "<tf.Tensor: shape=(2, 2), dtype=float32, numpy=\n",
       "array([[3.1622777, 0.       ],\n",
       "       [1.5811388, 2.738613 ]], dtype=float32)>"
      ]
     },
     "execution_count": 24,
     "metadata": {},
     "output_type": "execute_result"
    }
   ],
   "source": [
    "# Compute the lower triangular matrix L from the Cholesky decomposition\n",
    "scale_tril = tf.linalg.cholesky(sigma)\n",
    "scale_tril"
   ]
  },
  {
   "cell_type": "code",
   "execution_count": 25,
   "metadata": {},
   "outputs": [
    {
     "data": {
      "text/plain": [
       "<tf.Tensor: shape=(2, 2), dtype=float32, numpy=\n",
       "array([[10.,  5.],\n",
       "       [ 5., 10.]], dtype=float32)>"
      ]
     },
     "execution_count": 25,
     "metadata": {},
     "output_type": "execute_result"
    }
   ],
   "source": [
    "# Check that LL^T = Sigma\n",
    "tf.linalg.matmul(scale_tril, tf.transpose(scale_tril))"
   ]
  },
  {
   "cell_type": "code",
   "execution_count": 26,
   "metadata": {},
   "outputs": [
    {
     "name": "stdout",
     "output_type": "stream",
     "text": [
      "Cholesky decomposition was not successful. The input might not be valid. [Op:Cholesky]\n"
     ]
    }
   ],
   "source": [
    "# Try to compute the Cholesky decomposition for a matrix with negative eigenvalues (not positive semi definite)\n",
    "bad_sigma = [[10., 11.], [11., 10.]]\n",
    "\n",
    "try:\n",
    "    scale_tril = tf.linalg.cholesky(bad_sigma)\n",
    "except Exception as e:\n",
    "    print(e)"
   ]
  },
  {
   "cell_type": "markdown",
   "metadata": {},
   "source": [
    "note: In cases where the matrix is only positive semi-definite, the Cholesky decomposition exists (if the diagonal entries of \n",
    "$L$ can be zero) but it is not unique.\n",
    "\n",
    "For covariance matrices, this corresponds to the **degenerate case** where the probability density function collapses to a subspace of the event space.\n",
    "\n",
    "The co-variance matrix has to be postive-definite for the cholesky decomposition to be meaning full!!"
   ]
  },
  {
   "cell_type": "markdown",
   "metadata": {},
   "source": [
    "#### All together!\n",
    "\n",
    "To create a multivariate Gaussian distribution with full covariance you need to:\n",
    "\n",
    "* Specify parameters $\\mu$ and either $\\sum$(a symmetric positive definite matrix) or $L$ (a lower triangular matrix with positive diagonal elements), such that $\\sum = LL^{T}$\n",
    "\n",
    "* If only $\\sum$ is specified, compute scale_tril = `tf.linalg.cholesky(sigma)`.\n",
    "\n",
    "* Create the distribution: multivariate_normal = `tfd.MultivariateNormalTriL(loc=mu, scale_tril=scale_tril)`."
   ]
  },
  {
   "cell_type": "code",
   "execution_count": 29,
   "metadata": {},
   "outputs": [
    {
     "data": {
      "text/plain": [
       "<tfp.distributions.MultivariateNormalTriL 'MultivariateNormalTriL' batch_shape=[] event_shape=[3] dtype=float32>"
      ]
     },
     "execution_count": 29,
     "metadata": {},
     "output_type": "execute_result"
    }
   ],
   "source": [
    "# Create a multivariate (3d) Gaussian distribution\n",
    "mu = [1., 2., 3.]\n",
    "sigma = [\n",
    "    [0.5, 0.1, 0.1],\n",
    "    [0.1,  1., 0.6],\n",
    "    [0.1, 0.6, 2.]\n",
    "]\n",
    "\n",
    "#create lower triangular matrix L using cholesky\n",
    "scale_tril = tf.linalg.cholesky(sigma)\n",
    "#multivariate normal\n",
    "multivariate_normal = tfd.MultivariateNormalTriL(loc = mu, scale_tril = scale_tril)\n",
    "multivariate_normal"
   ]
  },
  {
   "cell_type": "code",
   "execution_count": 30,
   "metadata": {},
   "outputs": [
    {
     "name": "stdout",
     "output_type": "stream",
     "text": [
      "tf.Tensor([1. 2. 3.], shape=(3,), dtype=float32)\n",
      "tf.Tensor(\n",
      "[[0.49999997 0.1        0.1       ]\n",
      " [0.1        1.0000001  0.6       ]\n",
      " [0.1        0.6        2.        ]], shape=(3, 3), dtype=float32)\n"
     ]
    }
   ],
   "source": [
    "# check mean and variiance \n",
    "print(multivariate_normal.mean())\n",
    "print(multivariate_normal.covariance())"
   ]
  },
  {
   "cell_type": "markdown",
   "metadata": {},
   "source": [
    "There are further ways of constructing a multivariate Gaussian: see the docs for [`MultivariateNormalDiagPlusLowRank`](https://www.tensorflow.org/probability/api_docs/python/tfp/distributions/MultivariateNormalDiagPlusLowRank), [`MultivariateNormalLinearOperator`](https://www.tensorflow.org/probability/api_docs/python/tfp/distributions/MultivariateNormalLinearOperator)."
   ]
  },
  {
   "cell_type": "markdown",
   "metadata": {},
   "source": [
    "Multivariate distributions can also be batched together"
   ]
  },
  {
   "cell_type": "code",
   "execution_count": 36,
   "metadata": {},
   "outputs": [
    {
     "name": "stdout",
     "output_type": "stream",
     "text": [
      "tfp.distributions.MultivariateNormalDiag(\"MultivariateNormalDiag\", batch_shape=[2], event_shape=[3], dtype=float32)\n",
      "tf.Tensor(\n",
      "[[ 0.  -1.  -0.5]\n",
      " [ 1.   0.5  0. ]], shape=(2, 3), dtype=float32)\n",
      "tf.Tensor(\n",
      "[[0.25 0.   0.  ]\n",
      " [0.   2.25 0.  ]\n",
      " [0.   0.   1.  ]], shape=(3, 3), dtype=float32)\n"
     ]
    }
   ],
   "source": [
    "# Create a batched multivariate Gaussian\n",
    "\n",
    "#creating batch of 2, 3D multivariate normals (both have different means (loc) but SAME covariance matrix(scale_diag))\n",
    "batched_mvn = tfd.MultivariateNormalDiag(loc=[[0., -1., -0.5], [1., 0.5, 0.]], scale_diag=[0.5,1.5,1.])\n",
    "print(batched_mvn)\n",
    "\n",
    "#correct! batch_shape=2, event_shape=3 (num of variables)\n",
    "\n",
    "print(batched_mvn.mean()) # two separate mean (row)\n",
    "print(batched_mvn.covariance()) # same co-variance mat"
   ]
  },
  {
   "cell_type": "code",
   "execution_count": 37,
   "metadata": {},
   "outputs": [
    {
     "data": {
      "text/plain": [
       "<tf.Tensor: shape=(4, 2, 3), dtype=float32, numpy=\n",
       "array([[[ 0.7329596 ,  2.0429988 , -0.11019674],\n",
       "        [ 1.2694634 ,  0.1003499 , -1.2222456 ]],\n",
       "\n",
       "       [[-1.8050576 , -2.8023617 , -0.24687174],\n",
       "        [ 0.52230936, -1.5938292 , -0.06213358]],\n",
       "\n",
       "       [[-0.18299955,  3.4042845 , -0.70754063],\n",
       "        [ 1.1947917 ,  1.5900884 ,  0.07148998]],\n",
       "\n",
       "       [[-0.25341636, -3.2561073 ,  0.29760486],\n",
       "        [ 1.5805423 , -0.6474316 ,  1.0778246 ]]], dtype=float32)>"
      ]
     },
     "execution_count": 37,
     "metadata": {},
     "output_type": "execute_result"
    }
   ],
   "source": [
    "# Sample from the batched multivariate Gaussian\n",
    "\n",
    "batched_mvn.sample(4)\n",
    "\n",
    "#we want to pull four samples from two 3d multivariate gaussians!\n",
    "# recall (sample_shape, batch_shape, event_shape)\n",
    "\n",
    "#YES! this makes sence - we have four samples (each block), then we have two batches of dist's (hence two rows in block),\n",
    "# finally since each dist is 3d we have 3 columns represnting each variable (x1, x2, x3)"
   ]
  },
  {
   "cell_type": "markdown",
   "metadata": {},
   "source": [
    "### EXAMPLE"
   ]
  },
  {
   "cell_type": "code",
   "execution_count": 40,
   "metadata": {},
   "outputs": [
    {
     "name": "stdout",
     "output_type": "stream",
     "text": [
      "tfp.distributions.MultivariateNormalDiag(\"MultivariateNormalDiag\", batch_shape=[1, 2], event_shape=[3], dtype=float32)\n",
      "tf.Tensor(\n",
      "[[[[ 0.18317516]\n",
      "   [-0.12258255]]]\n",
      "\n",
      "\n",
      " [[[-1.541069  ]\n",
      "   [-0.6238579 ]]]\n",
      "\n",
      "\n",
      " [[[-1.9888759 ]\n",
      "   [-1.4752371 ]]]\n",
      "\n",
      "\n",
      " [[[ 0.35823125]\n",
      "   [-1.1446743 ]]]\n",
      "\n",
      "\n",
      " [[[ 2.3952544 ]\n",
      "   [ 1.0890217 ]]]], shape=(5, 1, 2, 1), dtype=float32)\n"
     ]
    },
    {
     "data": {
      "text/plain": [
       "<tf.Tensor: shape=(5, 1, 2), dtype=float32, numpy=\n",
       "array([[[ -9.1099205,  -6.0619287]],\n",
       "\n",
       "       [[-29.66069  ,  -9.280551 ]],\n",
       "\n",
       "       [[-37.645763 , -17.882114 ]],\n",
       "\n",
       "       [[ -7.928574 , -14.073743 ]],\n",
       "\n",
       "       [[ -6.448427 ,  -3.9318962]]], dtype=float32)>"
      ]
     },
     "execution_count": 40,
     "metadata": {},
     "output_type": "execute_result"
    }
   ],
   "source": [
    "# EXERCISE: lets work out the resulting shape\n",
    "# recall (sample_shape, batch_shape, event_shape)\n",
    "\n",
    "\n",
    "mvn3 = tfd.MultivariateNormalDiag(loc=[[[2., 0., 0.5], [1., -0.5, 2.]]], scale_diag=[0.5, 1., 1.5])\n",
    "print(mvn3)\n",
    "\n",
    "# 3dim normal dist (can tell by 3 elm in co-variance diagional- multi var DIAG!!)\n",
    "# we have a batch_shape of (1, 2).<--- tell this by the extra bracket for the means, this is the added batch dim\n",
    "# so have (1, 2) batches of 3d gaussian \n",
    "\n",
    "\n",
    "\n",
    "test_pts = tf.random.normal((5, 1, 2, 1))\n",
    "print(test_pts)\n",
    "\n",
    "# count from front so we have 5 batches of 1 batch of (2,1). if we changed the 1 to a 2 we would have\n",
    "# 5 batches of 2 batches of (2,1)\n",
    "\n",
    "\n",
    "#now compute the log prob!\n",
    "# each pdf takes three dims (as the dists are 3d) and we have two of them!\n",
    "mvn3.log_prob(test_pts)"
   ]
  },
  {
   "cell_type": "markdown",
   "metadata": {},
   "source": [
    "TO UNDERSTAND THIS EXAMPLE WE HAVE TO LOOK AT BROADCASTING!! - SOULTION BELOW"
   ]
  },
  {
   "cell_type": "markdown",
   "metadata": {},
   "source": [
    "## Key: Broadcasting "
   ]
  },
  {
   "cell_type": "markdown",
   "metadata": {},
   "source": [
    "broadcasting is used in numpy to apply operations to arrays that are **not the same shape**. Buit will only broadcast if certain condition are met!"
   ]
  },
  {
   "cell_type": "code",
   "execution_count": 34,
   "metadata": {},
   "outputs": [
    {
     "name": "stdout",
     "output_type": "stream",
     "text": [
      "[[1.]\n",
      " [2.]\n",
      " [3.]\n",
      " [4.]]\n",
      "\n",
      "[0. 1. 2.]\n"
     ]
    }
   ],
   "source": [
    "# Add two arrays with different shapes\n",
    "a = np.array([[1.], [2.], [3.], [4.]])  # shape (4, 1)\n",
    "b = np.array([0., 1., 2.])  # shape (3,) \n",
    "\n",
    "print(a, end=2*'\\n')\n",
    "print(b)"
   ]
  },
  {
   "cell_type": "code",
   "execution_count": 35,
   "metadata": {},
   "outputs": [
    {
     "data": {
      "text/plain": [
       "array([[1., 2., 3.],\n",
       "       [2., 3., 4.],\n",
       "       [3., 4., 5.],\n",
       "       [4., 5., 6.]])"
      ]
     },
     "execution_count": 35,
     "metadata": {},
     "output_type": "execute_result"
    }
   ],
   "source": [
    "#let add them - they have different shapes so numpy uses broadcasting rules \n",
    "a + b"
   ]
  },
  {
   "cell_type": "code",
   "execution_count": 38,
   "metadata": {},
   "outputs": [],
   "source": [
    "def dont_print():\n",
    "    \n",
    "    \"\"\"To execute it, numpy:\n",
    "\n",
    "Aligned the shapes of a and b on the last axis and prepended 1s to the shape with fewer axes:\n",
    " a: 4 x 1     --->    a: 4 x 1\n",
    " b:     3     --->    b: 1 x 3\n",
    "Checked that the sizes of the axes matched (i.e. same number of axis - both have two) or were equal to 1:\n",
    " a: 4 x 1  \n",
    " b: 1 x 3\n",
    "a and b satisfied this criterion.\n",
    "\n",
    "KEY PART\n",
    "Stretched both arrays on their 1-valued axes so that their shapes matched, then added them together.\n",
    "a was replicated 3 times in the second axis, while b was replicated 4 times in the first axis.\n",
    "This meant that the addition in the final step was\n",
    "\n",
    "[ [1., 1., 1.],    +  [ [0., 1., 2.],  \n",
    "  [2., 2., 2.],         [0., 1., 2.],  \n",
    "  [3., 3., 3.],         [0., 1., 2.],  \n",
    "  [4., 4., 4.] ]        [0., 1., 2.] ]\n",
    "\n",
    "Addition was then carried out element-by-element, as you can verify by referring back to the output of the code cell above.\n",
    "This resulted in an output with shape 4 x 3.\"\"\""
   ]
  },
  {
   "cell_type": "markdown",
   "metadata": {},
   "source": [
    "Broadcasting rules describe how values should be transmitted when the **inputs to an operation do not match**.\n",
    "In numpy, the broadcasting rule is very simple:\n",
    "\n",
    "* Prepend 1s to the smaller shape,\n",
    "* check that the axes of both arrays have sizes that are equal or 1,\n",
    "* then stretch the arrays in their size-1 axes.\n",
    "\n",
    "A crucial aspect of this rule is that it does not require the input arrays have the same number of axes.\n",
    "Another consequence of it is that a **broadcasting output will have the largest size of its inputs in each axis**."
   ]
  },
  {
   "cell_type": "code",
   "execution_count": 44,
   "metadata": {},
   "outputs": [
    {
     "name": "stdout",
     "output_type": "stream",
     "text": [
      "a\n",
      "[[[ 0.01]\n",
      "  [ 0.1 ]]\n",
      "\n",
      " [[ 1.  ]\n",
      "  [10.  ]]]\n",
      "b\n",
      "[[[2. 2.]]\n",
      "\n",
      " [[3. 3.]]]\n",
      "\n",
      "a * b\n",
      "[[[2.e-02 2.e-02]\n",
      "  [2.e-01 2.e-01]]\n",
      "\n",
      " [[3.e+00 3.e+00]\n",
      "  [3.e+01 3.e+01]]]\n"
     ]
    }
   ],
   "source": [
    "# Multiply two arrays with different shapes\n",
    "a = np.array([[[0.01], [0.1]], [[1.00], [10.]]]) # shape (2, 2, 1)\n",
    "b = np.array([[[2., 2.]], [[3., 3.]]]) # shape (2, 1, 2)\n",
    "print('a')\n",
    "print(a)\n",
    "print('b')\n",
    "print(b, end=2*'\\n')\n",
    "\n",
    "\n",
    "#then will have shape (2, 2, 2) the largest of each axis!\n",
    "#because it stretches the last axis of a by two (i.e instead of one column there is now two)\n",
    "#similarly for b it stretches the 1st axis (not batch dim =2) by two (i.e. instead of one row there are now two)\n",
    "print(\"a * b\" )\n",
    "print(a * b )"
   ]
  },
  {
   "cell_type": "code",
   "execution_count": 44,
   "metadata": {},
   "outputs": [
    {
     "name": "stdout",
     "output_type": "stream",
     "text": [
      "[[-1.]\n",
      " [ 0.]\n",
      " [ 1.]]\n",
      "\n",
      "[0. 1. 2. 3.]\n",
      "\n"
     ]
    },
    {
     "data": {
      "text/plain": [
       "array([[-0., -1., -2., -3.],\n",
       "       [ 0.,  0.,  0.,  0.],\n",
       "       [ 0.,  1.,  2.,  3.]])"
      ]
     },
     "execution_count": 44,
     "metadata": {},
     "output_type": "execute_result"
    }
   ],
   "source": [
    "# Use broadcasting to compute an outer product\n",
    "\n",
    "a = np.array([-1., 0., 1.]) #<-- shape (3,) (row vector)\n",
    "b = np.array([0., 1., 2., 3.]) #<-- shape (4,) (row vector)\n",
    "\n",
    "print(a[:, np.newaxis], end=2*'\\n')\n",
    "print(b, end=2*'\\n')\n",
    "#in order to compute outer product ab^T (with a and b column vectors in ab^T)\n",
    "\n",
    "#NOTE: row x column = scaler (inner product: normal matrix multiplication-sum of products of elm))\n",
    "#NOTE: column x row = matrix (outer product)\n",
    "\n",
    "#we have to add a final axis to a to broadcast over (i.e. make a, a column vector)\n",
    "a[:, np.newaxis] * b\n",
    "\n",
    "#note on broadcasting: a=(3, 1) and b=(4,) so we will get (3, 4) - we add 1st dim to b (1,4) \n",
    "#stretch b in that 1st dim 3 times (i.e. add three rows (3,4)) and we stretch a in last dim by 4\n",
    "# (i.e. add 4 columns (3,4))\n",
    "#"
   ]
  },
  {
   "cell_type": "markdown",
   "metadata": {},
   "source": [
    "#### Broadcasting for univariate TensorFlow Distributions\n",
    "The broadcasting rule for TensorFlow is the same as that for numpy. For example, TensorFlow also allows you to specify the parameters of Distribution objects using broadcasting.\n",
    "\n",
    "What is meant by this can be understood through an example with the univariate normal distribution. Say that we wish to specify a parameter grid for six Gaussians. The parameter combinations to be used, (loc, scale), are:\n",
    "\n",
    "(0, 1)  \n",
    "(0, 10)  \n",
    "(0, 100)  \n",
    "(1, 1)  \n",
    "(1, 10)  \n",
    "(1, 100)\n",
    "\n",
    "A laborious way of doing this is to explicitly pass each parameter to tfd.Normal:"
   ]
  },
  {
   "cell_type": "code",
   "execution_count": 45,
   "metadata": {},
   "outputs": [
    {
     "name": "stdout",
     "output_type": "stream",
     "text": [
      "tf.Tensor([0. 0. 0. 1. 1. 1.], shape=(6,), dtype=float32)\n",
      "tf.Tensor([  1.  10. 100.   1.  10. 100.], shape=(6,), dtype=float32)\n"
     ]
    }
   ],
   "source": [
    "# Define a batch of Normal distributions without broadcasting\n",
    "batch_of_normals = tfd.Normal(loc = [0., 0., 0., 1., 1., 1.], scale = [1., 10., 100., 1., 10., 100.])\n",
    "batch_of_normals\n",
    "\n",
    "#check mean (loc) and variance (scale)\n",
    "print(batch_of_normals.loc)\n",
    "print(batch_of_normals.scale)"
   ]
  },
  {
   "cell_type": "code",
   "execution_count": 48,
   "metadata": {},
   "outputs": [],
   "source": [
    "def dont_print():\n",
    "    \n",
    "    \"\"\"A more succinct way to create a batch of distributions for this parameter grid is to use broadcasting.\n",
    "Consider what would happen if we were to broadcast these arrays according the rule discussed earlier:\n",
    "\n",
    "loc = [ [0.],\n",
    "        [1.] ]\n",
    "scale = [1., 10., 100.]\n",
    "\n",
    "The shapes would be stretched according to\n",
    "\n",
    "loc:   2 x 1 ---> 2 x 3\n",
    "scale: 1 x 3 ---> 2 x 3\n",
    "\n",
    "resulting in\n",
    "\n",
    "loc = [ [0., 0., 0.],\n",
    "        [1., 1., 1.] ]\n",
    "scale = [ [1., 10., 100.],\n",
    "          [1., 10., 100.] ]\n",
    "\n",
    "which are compatible with the loc and scale arguments of tfd.Normal.\"\"\""
   ]
  },
  {
   "cell_type": "code",
   "execution_count": 46,
   "metadata": {},
   "outputs": [
    {
     "name": "stdout",
     "output_type": "stream",
     "text": [
      "tfp.distributions.Normal(\"Normal\", batch_shape=[2, 3], event_shape=[], dtype=float32)\n",
      "\n",
      "tf.Tensor(\n",
      "[[0.]\n",
      " [1.]], shape=(2, 1), dtype=float32)\n",
      "\n",
      "tf.Tensor([  1.  10. 100.], shape=(3,), dtype=float32)\n"
     ]
    }
   ],
   "source": [
    "# Define a batch of Normal distributions with broadcasting\n",
    "loc = [[0.], [1.]]\n",
    "scale = [1., 10., 100.]\n",
    "another_batch_of_normals = tfd.Normal(loc = loc, scale = scale)\n",
    "print(another_batch_of_normals, end=2*'\\n')\n",
    "\n",
    "#check mean (loc) and variance (scale)\n",
    "print(another_batch_of_normals.loc, end=2*'\\n')\n",
    "print(another_batch_of_normals.scale)"
   ]
  },
  {
   "cell_type": "markdown",
   "metadata": {},
   "source": [
    "now rather the six distributions in one batch we have our six distributions but spread over two batches i.e. (2,3)! But we have our six distributions!"
   ]
  },
  {
   "cell_type": "code",
   "execution_count": 52,
   "metadata": {},
   "outputs": [
    {
     "name": "stdout",
     "output_type": "stream",
     "text": [
      "tf.Tensor([-1.0462968 -3.223001  -5.524175  -0.9254071 -3.2217205 -5.5242186], shape=(6,), dtype=float32)\n",
      "tf.Tensor(\n",
      "[[-1.0462968 -3.223001  -5.524175 ]\n",
      " [-0.9254071 -3.2217205 -5.5242186]], shape=(2, 3), dtype=float32)\n"
     ]
    }
   ],
   "source": [
    "test_pts = tf.random.normal((6,))\n",
    "print(batch_of_normals.log_prob(test_pts))\n",
    "\n",
    "test_pts_23 = tf.reshape(test_pts, (2,3))# <--- key in mind we have to reshape them to feed into our batched dists\n",
    "print(another_batch_of_normals.log_prob(test_pts_23))"
   ]
  },
  {
   "cell_type": "markdown",
   "metadata": {},
   "source": [
    "(note: the values here are different because of the samples are different)"
   ]
  },
  {
   "cell_type": "code",
   "execution_count": 56,
   "metadata": {
    "scrolled": false
   },
   "outputs": [
    {
     "data": {
      "text/plain": [
       "<tf.Tensor: shape=(6,), dtype=float32, numpy=\n",
       "array([   0.15247743,  -10.734172  , -140.81631   ,    1.6252096 ,\n",
       "          0.4704399 ,  132.72746   ], dtype=float32)>"
      ]
     },
     "execution_count": 56,
     "metadata": {},
     "output_type": "execute_result"
    }
   ],
   "source": [
    "batch_of_normals.sample()"
   ]
  },
  {
   "cell_type": "code",
   "execution_count": 57,
   "metadata": {},
   "outputs": [
    {
     "data": {
      "text/plain": [
       "<tf.Tensor: shape=(2, 3), dtype=float32, numpy=\n",
       "array([[  1.6930197 ,   8.043403  ,  28.437397  ],\n",
       "       [  0.36604214, -15.16872   , 162.08614   ]], dtype=float32)>"
      ]
     },
     "execution_count": 57,
     "metadata": {},
     "output_type": "execute_result"
    }
   ],
   "source": [
    "another_batch_of_normals.sample()"
   ]
  },
  {
   "cell_type": "markdown",
   "metadata": {},
   "source": [
    "## Broadcasting with .prob and .log_prob (Univariate Dists)"
   ]
  },
  {
   "cell_type": "code",
   "execution_count": 54,
   "metadata": {},
   "outputs": [
    {
     "data": {
      "text/plain": [
       "<tfp.distributions.Normal 'Normal' batch_shape=[2, 3] event_shape=[] dtype=float32>"
      ]
     },
     "execution_count": 54,
     "metadata": {},
     "output_type": "execute_result"
    }
   ],
   "source": [
    "# Define a batch of UNIVARIATE Normal distributions with broadcasting\n",
    "loc = [[0.], [10.]]\n",
    "scale = [1., 1., 1.]\n",
    "another_batch_of_normals = tfd.Normal(loc = loc, scale = scale)\n",
    "another_batch_of_normals"
   ]
  },
  {
   "cell_type": "markdown",
   "metadata": {},
   "source": [
    "We can feed in samples of any shape **as long as it can be broadcast againest our batch shape** for this example.\n",
    "\n",
    "here we want to broadcast our sample to so that it is the same dimensions as our batch of normals. then we can feed into those dists. (so our distribution is univarate - pdf requires only on variable, x) "
   ]
  },
  {
   "cell_type": "code",
   "execution_count": 68,
   "metadata": {},
   "outputs": [
    {
     "data": {
      "text/plain": [
       "<tf.Tensor: shape=(2, 3), dtype=float32, numpy=\n",
       "array([[3.0857256e-01, 3.0857256e-01, 3.0857256e-01],\n",
       "       [1.3499406e-22, 1.3499406e-22, 1.3499406e-22]], dtype=float32)>"
      ]
     },
     "execution_count": 68,
     "metadata": {},
     "output_type": "execute_result"
    }
   ],
   "source": [
    "# Use broadcasting along the SECOND axis with the prob method\n",
    "sample = tf.random.uniform((2, 1))\n",
    "another_batch_of_normals.prob(sample)"
   ]
  },
  {
   "cell_type": "code",
   "execution_count": 71,
   "metadata": {},
   "outputs": [],
   "source": [
    "def dont_print():\n",
    "    \"\"\" Our sample is [[1],\n",
    "                       [2]]\n",
    "        \n",
    "        and we need this sample to be [[1], [1], [1],\n",
    "                                       [2], [2], [2]]\n",
    "                                       \n",
    "       then we can feed it into our distributions [[d1], [d2], [d3]'\n",
    "                                                   [d4], [d5], [d6]']\n",
    "                                                   \n",
    "                                                   i.e dist 1 will get x=1 where as d4 will get x=2 and we work out the pdf\n",
    "                                                   values for this!!\n",
    "                                                   \n",
    "                                                   the broadcasting here is not related to multiplication!! its related to\n",
    "                                                   feeding it into dist\"\"\""
   ]
  },
  {
   "cell_type": "code",
   "execution_count": 75,
   "metadata": {},
   "outputs": [
    {
     "name": "stdout",
     "output_type": "stream",
     "text": [
      "Incompatible shapes: [2,2] vs. [3] [Op:RealDiv]\n"
     ]
    },
    {
     "data": {
      "text/plain": [
       "<tf.Tensor: shape=(2, 3), dtype=float32, numpy=\n",
       "array([[3.436044e-01, 3.436044e-01, 3.436044e-01],\n",
       "       [1.565721e-20, 1.565721e-20, 1.565721e-20]], dtype=float32)>"
      ]
     },
     "execution_count": 75,
     "metadata": {},
     "output_type": "execute_result"
    }
   ],
   "source": [
    "#explaination\n",
    "\n",
    "#when we broadcast in this way we are taking the dim that needs to be stretched and streching it will the WHOLE of the \n",
    "#orignial. i.e [[1], [2]] was taken two times in column dim so that we get to three columns!!\n",
    "\n",
    "#here this wont work because we are taking a 2x2 and wanting to stretch it one time tn the column (to get to three)\n",
    "# note that if the batch size of our distribution was [2,4] this would work because we can got two coullmns across!!\n",
    "# likewise batch_size = [2, 5] wouldnt work but [2,12] would!!\n",
    "try:\n",
    "    sample = tf.random.uniform((2, 2))\n",
    "    another_batch_of_normals.prob(sample)\n",
    "except Exception as e:\n",
    "    print(e)\n",
    "    #causes an overlay! - visualisation (see down)\n",
    "    \n",
    "    \n",
    "#however this will work! because we take a scalar (), and add two dims (1,1) \n",
    "#we can then broad cast this in the rows by 2 and the columns by three'\n",
    "# then each dist will take the same value feed in element wise!\n",
    "sample = tf.random.uniform(())\n",
    "another_batch_of_normals.prob(sample)"
   ]
  },
  {
   "cell_type": "code",
   "execution_count": 55,
   "metadata": {},
   "outputs": [
    {
     "data": {
      "text/plain": [
       "<tfp.distributions.Normal 'Normal' batch_shape=[4, 3] event_shape=[] dtype=float32>"
      ]
     },
     "execution_count": 55,
     "metadata": {},
     "output_type": "execute_result"
    }
   ],
   "source": [
    "## another example to make this absoultely clear!\n",
    "\n",
    "# Define a batch of Normal distributions with broadcasting\n",
    "loc = [[0.], [10.], [100], [1000]]\n",
    "scale = [1., 1., 1.]\n",
    "another_batch_of_normals = tfd.Normal(loc = loc, scale = scale)\n",
    "another_batch_of_normals\n",
    "#here we have a batch_shape of [4,3] i.e we have twelve distributions (0,1),     (0,1),    (0,1)\n",
    "                                                                    # (10,1),    (10,1),   (10,1)\n",
    "                                                                    # (100,1),   (100,1),  (100, 1)\n",
    "                                                                    # (1000, 1), (1000,1), (1000,1)"
   ]
  },
  {
   "cell_type": "code",
   "execution_count": 56,
   "metadata": {},
   "outputs": [
    {
     "data": {
      "text/plain": [
       "<tf.Tensor: shape=(4, 3), dtype=float32, numpy=\n",
       "array([[3.7261260e-01, 3.7261260e-01, 3.7261260e-01],\n",
       "       [2.8933223e-21, 2.8933223e-21, 2.8933223e-21],\n",
       "       [0.0000000e+00, 0.0000000e+00, 0.0000000e+00],\n",
       "       [0.0000000e+00, 0.0000000e+00, 0.0000000e+00]], dtype=float32)>"
      ]
     },
     "execution_count": 56,
     "metadata": {},
     "output_type": "execute_result"
    }
   ],
   "source": [
    "#here a scalar always works cause we can expand to neccesary dims then stretch\n",
    "sample = tf.random.uniform(())\n",
    "another_batch_of_normals.prob(sample)"
   ]
  },
  {
   "cell_type": "code",
   "execution_count": 85,
   "metadata": {},
   "outputs": [
    {
     "data": {
      "text/plain": [
       "<tf.Tensor: shape=(4, 3), dtype=float32, numpy=\n",
       "array([[2.6131195e-01, 2.6131195e-01, 2.6131195e-01],\n",
       "       [4.9828817e-19, 4.9828817e-19, 4.9828817e-19],\n",
       "       [0.0000000e+00, 0.0000000e+00, 0.0000000e+00],\n",
       "       [0.0000000e+00, 0.0000000e+00, 0.0000000e+00]], dtype=float32)>"
      ]
     },
     "execution_count": 85,
     "metadata": {},
     "output_type": "execute_result"
    }
   ],
   "source": [
    "# a (2, 1) would work! because we can stretch it by it buy 2 in the rows and then stretch it by three in the columns\n",
    "#(BOTH AXIS)  \n",
    "\n",
    "sample = tf.random.uniform(())\n",
    "another_batch_of_normals.prob(sample)"
   ]
  },
  {
   "cell_type": "code",
   "execution_count": 89,
   "metadata": {},
   "outputs": [
    {
     "name": "stdout",
     "output_type": "stream",
     "text": [
      "tf.Tensor(\n",
      "[[3.2275724e-01 3.3672830e-01 3.5345739e-01]\n",
      " [4.1832352e-20 2.1952380e-20 9.3440350e-21]\n",
      " [0.0000000e+00 0.0000000e+00 0.0000000e+00]\n",
      " [0.0000000e+00 0.0000000e+00 0.0000000e+00]], shape=(4, 3), dtype=float32)\n",
      "\n",
      "Incompatible shapes: [3,3] vs. [4,3] [Op:SquaredDifference]\n"
     ]
    }
   ],
   "source": [
    "# (1,3) works because only need to stretch in one dim! - the columns are taken care off just need to pull down 4 times \n",
    "#over rows\n",
    "sample = tf.random.uniform((1,3))\n",
    "print(another_batch_of_normals.prob(sample), end=2*'\\n')\n",
    "\n",
    "\n",
    "\n",
    "# (3,3) wont work because cant pull rows down by one if we have three rows in our sample! the least we could do is pull\n",
    "# down another three (because sample already has three rows)  - hence wont work\n",
    "try:\n",
    "    sample = tf.random.uniform((3,3))\n",
    "    another_batch_of_normals.prob(sample)\n",
    "except Exception as e:\n",
    "    print(e)\n"
   ]
  },
  {
   "cell_type": "code",
   "execution_count": 79,
   "metadata": {},
   "outputs": [
    {
     "name": "stdout",
     "output_type": "stream",
     "text": [
      "Incompatible shapes: [2,2] vs. [3] [Op:RealDiv]\n"
     ]
    }
   ],
   "source": [
    "# a (2,2) wouldnt work! - we can strech it in the rows to get 4 rows (multiple by two) \n",
    "#but cant expand by one in the colums because the column dim is already 2 and since we can only use the orginal shape \n",
    "#(i.e. cant cut it in half) then this wont work \n",
    "\n",
    "try:\n",
    "    sample = tf.random.uniform((2, 2))\n",
    "    another_batch_of_normals.prob(sample)\n",
    "except Exception as e:\n",
    "    print(e)\n",
    "    \n",
    "#a way to visulaise it would be to place the sample matrix in top left corner of dist batch_shape \n",
    "#and see if we can roll it over and keep within the dims of the dist batch_shape \n",
    "\n",
    "# in this example we have batch_shape=[4,3] and sample_matrix=[2,2] so if we roll our sample matrix over to the right\n",
    "# it will pass the three rows by one!"
   ]
  },
  {
   "cell_type": "markdown",
   "metadata": {},
   "source": [
    "## Broadcasting for multivariate TensorFlow distributions\n",
    "\n",
    "Recall that `MultivariateNormalDiag` has two parameter arguments: `loc` and `scale_diag`. \n",
    "\n",
    "When specifying a SINGLE distribution, these arguments are vectors of the same length:"
   ]
  },
  {
   "cell_type": "code",
   "execution_count": 6,
   "metadata": {},
   "outputs": [
    {
     "data": {
      "text/plain": [
       "<tfp.distributions.MultivariateNormalDiag 'MultivariateNormalDiag' batch_shape=[] event_shape=[2] dtype=float32>"
      ]
     },
     "execution_count": 6,
     "metadata": {},
     "output_type": "execute_result"
    }
   ],
   "source": [
    "# Define a multivariate Gaussian distribution without broadcasting\n",
    "single_mvt_normal = tfd.MultivariateNormalDiag(loc = [0., 0.], scale_diag = [1., 0.5])\n",
    "single_mvt_normal #<--- produce SINGLE (2d) multivate dist f(x1, x2)\n",
    "\n",
    "#event shape = number of variables in the pdf"
   ]
  },
  {
   "cell_type": "code",
   "execution_count": 5,
   "metadata": {},
   "outputs": [],
   "source": [
    "def dont_print():\n",
    "    \n",
    "    \"\"\"The size of the final axis of the inputs determines the event shape for each distribution in the batch. \n",
    "    This means that if we pass say:\n",
    "\n",
    "loc = [ [0., 0.],\n",
    "        [1., 1.] ]\n",
    "\n",
    "scale_diag = [1., 0.5]\n",
    "\n",
    "such that\n",
    "\n",
    "loc:        2 x 2\n",
    "scale_diag: 1 x 2\n",
    "                ^ final dimension is interpreted as EVENT dimension\n",
    "            ^ other dimensions are interpreted as BATCH dimensions  \n",
    "\n",
    "then a batch of two bivariate normal distributions will be created.\"\"\""
   ]
  },
  {
   "cell_type": "code",
   "execution_count": 9,
   "metadata": {},
   "outputs": [
    {
     "data": {
      "text/plain": [
       "<tfp.distributions.MultivariateNormalDiag 'MultivariateNormalDiag' batch_shape=[2] event_shape=[2] dtype=float32>"
      ]
     },
     "execution_count": 9,
     "metadata": {},
     "output_type": "execute_result"
    }
   ],
   "source": [
    "# Define a multivariate Gaussian distribution with broadcasting\n",
    "loc = [[0., 0.], \n",
    "       [1., 1.]]\n",
    "\n",
    "scale_diag = [1., 0.5]\n",
    "batch_of_mvt_normals = tfd.MultivariateNormalDiag(loc = loc, scale_diag = scale_diag)\n",
    "batch_of_mvt_normals #<--- the final dims of the parameters (loc, scale_diag) is two therfore our dists event shape is 2\n",
    "                     # passing in two means i.e theyre 2d. then since loc's first dim is 2 we will produce a batch of 2 dist"
   ]
  },
  {
   "cell_type": "code",
   "execution_count": 10,
   "metadata": {},
   "outputs": [],
   "source": [
    "def dont_print():\n",
    "    \n",
    "    \"\"\"Knowing that, for multivariate distributions, TensorFlow:\n",
    "\n",
    "* interprets the final axis of an array of parameters as the event shape,\n",
    "and broadcasts over the remaining axes,\n",
    "\n",
    "* can you predict what the batch and event shapes will if we pass the arguments\n",
    "\n",
    "\n",
    "loc = [ [ 1.,  1.,  1.],\n",
    "        [-1., -1., -1.] ] # shape (2, 3)\n",
    "scale_diag = [ [[0.1, 0.1, 0.1]],\n",
    "               [[10., 10., 10.]] ] # shape (2, 1, 3)\n",
    "\n",
    "to MultivariateNormalDiag?\n",
    "\n",
    "Solution:\n",
    "\n",
    "Align the parameter array shapes on their last axis, prepending 1s where necessary:\n",
    "\n",
    "       loc: 1 x 2 x 3  \n",
    "scale_diag: 2 x 1 x 3  \n",
    "\n",
    "The final axis has size 3, so event_shape = (3)!! The remaining axes are broadcast over to yield\n",
    "\n",
    "       loc: 2 x 2 x 3  \n",
    "scale_diag: 2 x 2 x 3  \n",
    "\n",
    "so batch_shape = (2, 2).\"\"\""
   ]
  },
  {
   "cell_type": "code",
   "execution_count": 13,
   "metadata": {},
   "outputs": [
    {
     "data": {
      "text/plain": [
       "<tfp.distributions.MultivariateNormalDiag 'MultivariateNormalDiag' batch_shape=[2, 2] event_shape=[3] dtype=float32>"
      ]
     },
     "execution_count": 13,
     "metadata": {},
     "output_type": "execute_result"
    }
   ],
   "source": [
    "#lets check!\n",
    "\n",
    "# Define a multivariate Gaussian distribution with broadcasting\n",
    "loc = [[1.,  1.,  1.], [-1., -1., -1.]] # shape (2, 3)\n",
    "scale_diag = [[[0.1, 0.1, 0.1]], [[10., 10., 10.]]] # shape (2, 1, 3)\n",
    "another_batch_of_mvt_normals = tfd.MultivariateNormalDiag(loc = loc, scale_diag = scale_diag)\n",
    "another_batch_of_mvt_normals\n",
    "\n",
    "#YES!!"
   ]
  },
  {
   "cell_type": "markdown",
   "metadata": {},
   "source": [
    "As we did before lets also look at broadcasting when we have batches of multivariate distributions."
   ]
  },
  {
   "cell_type": "code",
   "execution_count": 22,
   "metadata": {},
   "outputs": [
    {
     "data": {
      "text/plain": [
       "<tfp.distributions.Normal 'Normal' batch_shape=[3, 6] event_shape=[] dtype=float32>"
      ]
     },
     "execution_count": 22,
     "metadata": {},
     "output_type": "execute_result"
    }
   ],
   "source": [
    "# Define a batch of Normal distributions with broadcasting\n",
    "loc = [[0.], [1.], [0.]]\n",
    "scale = [1., 10., 100., 1., 10, 100.]\n",
    "another_batch_of_normals = tfd.Normal(loc = loc, scale = scale)\n",
    "another_batch_of_normals\n",
    "\n",
    "#rceall we have align the last dims and perpend ones\n",
    "#3x1\n",
    "#1x6\n",
    "#therefore get a 3x6\n",
    "# all of which are univariate - seen by the empty event shape and also since we have used a .Normal dist!"
   ]
  },
  {
   "cell_type": "markdown",
   "metadata": {},
   "source": [
    "The `Independent` distribution shifts all batch dimensions except the first into the event space. This can be changed with the `reinterpreted_batch_ndims` option:"
   ]
  },
  {
   "cell_type": "code",
   "execution_count": 23,
   "metadata": {},
   "outputs": [
    {
     "data": {
      "text/plain": [
       "<tfp.distributions.Independent 'IndependentNormal' batch_shape=[3] event_shape=[6] dtype=float32>"
      ]
     },
     "execution_count": 23,
     "metadata": {},
     "output_type": "execute_result"
    }
   ],
   "source": [
    "# Create a multivariate Independent distribution\n",
    "another_batch_of_mvt_normals = tfd.Independent(another_batch_of_normals)\n",
    "another_batch_of_mvt_normals #<-- shifted our last batch dim to the event shape\n",
    "\n",
    "#now we have three batches of 6d multivariate (Independent) normal dists "
   ]
  },
  {
   "cell_type": "markdown",
   "metadata": {},
   "source": [
    "Now for the broadcasting!!"
   ]
  },
  {
   "cell_type": "code",
   "execution_count": 25,
   "metadata": {},
   "outputs": [
    {
     "data": {
      "text/plain": [
       "<tf.Tensor: shape=(3, 6), dtype=float32, numpy=\n",
       "array([[ 2.6011517e-02, -8.8942623e+00, -3.8939114e+01,  4.2982289e-01,\n",
       "         8.2547128e-01,  1.0562706e+02],\n",
       "       [ 1.4069661e+00,  8.8499517e+00,  8.6275192e+01,  5.7300717e-01,\n",
       "         1.8387951e+01,  1.3938741e+02],\n",
       "       [-4.7264853e-01,  4.2287512e+00,  5.3369480e+01,  5.6979477e-01,\n",
       "         2.4714441e+00,  1.6656868e+01]], dtype=float32)>"
      ]
     },
     "execution_count": 25,
     "metadata": {},
     "output_type": "execute_result"
    }
   ],
   "source": [
    "another_batch_of_mvt_normals.sample()"
   ]
  },
  {
   "cell_type": "code",
   "execution_count": 26,
   "metadata": {},
   "outputs": [
    {
     "data": {
      "text/plain": [
       "<tf.Tensor: shape=(3,), dtype=float32, numpy=array([3.1650820e-09, 1.5321809e-09, 3.2271321e-09], dtype=float32)>"
      ]
     },
     "execution_count": 26,
     "metadata": {},
     "output_type": "execute_result"
    }
   ],
   "source": [
    "# Use broadcasting with the prob method\n",
    "# B shaped input (broadcast over event)\n",
    "sample = tf.random.uniform((3, 1))\n",
    "another_batch_of_mvt_normals.prob(sample)\n",
    "\n",
    "##so we have a sample that is (3,1) which we can broadcast to (3,6)!\n",
    "## we then sub this broadcasted sample into each dist (we have three 6d multivariate normals)\n",
    "## since when we sub in values (6 of them in this case) into our p.d.f it spits out a scalar which represnts the gradient\n",
    "## of the c.d.f\n",
    "\n",
    "## hence we have (3,) - which represents the value of each of the three dists p.d.fs!!"
   ]
  },
  {
   "cell_type": "code",
   "execution_count": 27,
   "metadata": {},
   "outputs": [
    {
     "data": {
      "text/plain": [
       "<tf.Tensor: shape=(3,), dtype=float32, numpy=array([2.2205089e-09, 3.8016785e-09, 2.2205089e-09], dtype=float32)>"
      ]
     },
     "execution_count": 27,
     "metadata": {},
     "output_type": "execute_result"
    }
   ],
   "source": [
    "# Use broadcasting with the prob method\n",
    "# E shaped input (broadcast over batch)\n",
    "sample = tf.random.uniform((1, 6))\n",
    "another_batch_of_mvt_normals.prob(sample)\n",
    "\n",
    "## so we have a sample that is (1,6) which we can broad cast to a (3,6) (roll down rows!)\n",
    "## then we plug into this broadcasted sample into our three dists - which works out the prob (value of the pdf at 6d-pts)\n",
    "## spits out a scalar\n",
    "## since we have three dists we get (3,) "
   ]
  },
  {
   "cell_type": "code",
   "execution_count": 29,
   "metadata": {},
   "outputs": [
    {
     "data": {
      "text/plain": [
       "<tf.Tensor: shape=(2, 3), dtype=float32, numpy=\n",
       "array([[2.4401103e-09, 3.7835002e-09, 2.3601829e-09],\n",
       "       [3.7999968e-09, 2.7241032e-09, 2.2872622e-09]], dtype=float32)>"
      ]
     },
     "execution_count": 29,
     "metadata": {},
     "output_type": "execute_result"
    }
   ],
   "source": [
    "# Use broadcasting with the prob method\n",
    "# [S,B,E] shaped input (broadcast over samples)\n",
    "\n",
    "#[S,B,E] stands for [sample_shape, batch_shape, Event_shape]\n",
    "sample = tf.random.uniform((2, 3, 6))\n",
    "another_batch_of_mvt_normals.prob(sample)\n",
    "\n",
    "##so our sample shape is (2, 3, 6) so we broadcast our dists to match this shape\n",
    "##2x3x6 (sample)\n",
    "##1x3x6 (dists - with prepended 1 - to match dim of input)\n",
    "\n",
    "##2x3x6 (new dist shape - we just added a sample_dim)\n",
    "\n",
    "##feed our input into our new broadcasted dists (just sample_dim added) and calculate the values of our dist at these pts\n",
    "## (i.e. work out value of p.d.f -- returns a scalar )\n",
    "## hence since we have three dists we get three scalars back BUT now we also have our sample_dim\n",
    "## hence we get (2,3) returned - 2 is the sample_shape, 3 is the three values of our dists!\n",
    "\n",
    "## just the above but with two samples!! and hence we are returning two samples!!!"
   ]
  },
  {
   "cell_type": "code",
   "execution_count": 30,
   "metadata": {},
   "outputs": [
    {
     "data": {
      "text/plain": [
       "<tf.Tensor: shape=(2, 3), dtype=float32, numpy=\n",
       "array([[2.1290045e-09, 3.5847842e-09, 2.1290045e-09],\n",
       "       [1.7274912e-09, 4.0008250e-09, 1.7274912e-09]], dtype=float32)>"
      ]
     },
     "execution_count": 30,
     "metadata": {},
     "output_type": "execute_result"
    }
   ],
   "source": [
    "# [S,b,e] shaped input where [b,e] can be broadcast agaisnt [B,E]\n",
    "sample = tf.random.uniform((2, 1, 6))\n",
    "another_batch_of_mvt_normals.prob(sample)\n",
    "\n",
    "\n",
    "## in this case we have an input_dim = (2, 1, 6) and we have our dists_shape=(3,6) so both will need to be broadcasted\n",
    "\n",
    "##2x1x6 (input)\n",
    "##1x3x6 (dists - with added sample_dim too match input)\n",
    "## BROADCASTING BOTH (take max for each dim - rolling out)\n",
    "##2x3x6 both input and dists now have this shape\n",
    "\n",
    "## similar to above we can then sub these matching shapes into the dist_shape - take the probability(the value of the pdf\n",
    "## of our 6d multivariate dist - which returns a scalar (grad of cdf) - since we have three dists we get three scalars back)\n",
    "\n",
    "## our sample_dim remains and hence we get (2,3) -- we are taking two seperate samples of our batches dists thats all- \n",
    "## theres no funny business"
   ]
  },
  {
   "cell_type": "markdown",
   "metadata": {},
   "source": [
    "### FINALLY WE CAN DEAL WITH EXAMPLE FROM EARLIER "
   ]
  },
  {
   "cell_type": "code",
   "execution_count": 31,
   "metadata": {},
   "outputs": [
    {
     "data": {
      "text/plain": [
       "<tfp.distributions.MultivariateNormalDiag 'MultivariateNormalDiag' batch_shape=[1, 2] event_shape=[3] dtype=float32>"
      ]
     },
     "execution_count": 31,
     "metadata": {},
     "output_type": "execute_result"
    }
   ],
   "source": [
    "# EXERCISE: lets work out the resulting shape!\n",
    "# recall (sample_shape, batch_shape, event_shape)\n",
    "\n",
    "\n",
    "#create our multivariate dist\n",
    "mvn3 = tfd.MultivariateNormalDiag(loc=[[[2., 0., 0.5], [1., -0.5, 2.]]], scale_diag=[0.5, 1., 1.5])\n",
    "mvn3\n",
    "\n",
    "## this has event shape 3 because scale_diag is 3d\n",
    "## the batch_dim is (1, 2) -- because we have two means given but they are wrapped in another dim (bracket [])!"
   ]
  },
  {
   "cell_type": "code",
   "execution_count": 32,
   "metadata": {},
   "outputs": [
    {
     "data": {
      "text/plain": [
       "<tf.Tensor: shape=(5, 1, 2, 1), dtype=float32, numpy=\n",
       "array([[[[-9.0936862e-02],\n",
       "         [ 2.0393014e+00]]],\n",
       "\n",
       "\n",
       "       [[[ 7.5899637e-01],\n",
       "         [-2.9042490e+00]]],\n",
       "\n",
       "\n",
       "       [[[-1.9825829e+00],\n",
       "         [ 9.0568740e-04]]],\n",
       "\n",
       "\n",
       "       [[[ 1.4316862e+00],\n",
       "         [-8.1980431e-01]]],\n",
       "\n",
       "\n",
       "       [[[-1.0199932e+00],\n",
       "         [-1.1388546e+00]]]], dtype=float32)>"
      ]
     },
     "execution_count": 32,
     "metadata": {},
     "output_type": "execute_result"
    }
   ],
   "source": [
    "# create our test points\n",
    "test_pts = tf.random.normal((5, 1, 2, 1))\n",
    "test_pts"
   ]
  },
  {
   "cell_type": "code",
   "execution_count": 35,
   "metadata": {},
   "outputs": [
    {
     "data": {
      "text/plain": [
       "<tf.Tensor: shape=(5, 1, 2), dtype=float32, numpy=\n",
       "array([[[-11.294904 ,  -7.8537974]],\n",
       "\n",
       "       [[ -5.8522577, -41.19047  ]],\n",
       "\n",
       "       [[-37.52599  ,  -5.4790497]],\n",
       "\n",
       "       [[ -4.3328547, -10.910601 ]],\n",
       "\n",
       "       [[-21.743462 , -14.012021 ]]], dtype=float32)>"
      ]
     },
     "execution_count": 35,
     "metadata": {},
     "output_type": "execute_result"
    }
   ],
   "source": [
    "# what is the shape of this:\n",
    "mvn3.log_prob(test_pts)\n",
    "\n",
    "##recall:`(sample_shape, batch_shape, event_shape)` \n",
    "\n",
    "##so we have input shape (5,1,2,1) and dist_shape (1,2,3) so both need to be broadcasted! (dist_shape needs a sample_dim)\n",
    "##also event_dim of the input(final_dim = 1) is not the same as our event_shape for our dists! -- so broadcast both \n",
    "\n",
    "##5x1x2x1 (input)\n",
    "##1x1x2x3 (dist_shape -- with sample_dim added (perpending 1))\n",
    "##BROADCASTING BOTH\n",
    "\n",
    "##5X1X2X3 (BOTH input_shape and dists_shape have this shape!)\n",
    "\n",
    "##now that they are broadcasted we can work out the prob (remember last dim represents the event_shape,so we have 3d dists)\n",
    "##and we have 2 of them (batch_dim=2) therefore the proability will give (2,) back as p.d.f returns scalar and we have 2 dists\n",
    "\n",
    "## therefore our final shape will be (5, 1, 2) -- (5,1) is the sample_dim which remain and the 2 is the batch_dims\n",
    "\n",
    "\n",
    "\n",
    "## YESSSSSSSSSSSSSSSSSSSSSSSS !!!!!!!"
   ]
  },
  {
   "cell_type": "markdown",
   "metadata": {},
   "source": [
    "## The Independent Distribution"
   ]
  },
  {
   "cell_type": "code",
   "execution_count": 5,
   "metadata": {},
   "outputs": [
    {
     "data": {
      "text/plain": [
       "<tfp.distributions.Normal 'Normal' batch_shape=[2] event_shape=[] dtype=float32>"
      ]
     },
     "execution_count": 5,
     "metadata": {},
     "output_type": "execute_result"
    }
   ],
   "source": [
    "# Start by defining a batch of two univariate Gaussians\n",
    "locs = [-1., 1]\n",
    "scales = [0.5, 1.]\n",
    "batch_of_normals = tfd.Normal(loc = locs, scale = scales)\n",
    "batch_of_normals"
   ]
  },
  {
   "cell_type": "code",
   "execution_count": 12,
   "metadata": {},
   "outputs": [
    {
     "data": {
      "text/plain": [
       "array([[-4.        , -4.        ],\n",
       "       [-3.99919992, -3.99919992],\n",
       "       [-3.99839984, -3.99839984],\n",
       "       ...,\n",
       "       [ 3.99839984,  3.99839984],\n",
       "       [ 3.99919992,  3.99919992],\n",
       "       [ 4.        ,  4.        ]])"
      ]
     },
     "execution_count": 12,
     "metadata": {},
     "output_type": "execute_result"
    }
   ],
   "source": [
    "j = np.repeat(t[:, np.newaxis], 2, axis = 1)\n",
    "j.shape\n",
    "j"
   ]
  },
  {
   "cell_type": "code",
   "execution_count": 13,
   "metadata": {},
   "outputs": [
    {
     "name": "stderr",
     "output_type": "stream",
     "text": [
      "C:\\Users\\matth\\anaconda3\\lib\\site-packages\\seaborn\\_decorators.py:36: FutureWarning: Pass the following variables as keyword args: x, y. From version 0.12, the only valid positional argument will be `data`, and passing other arguments without an explicit keyword will result in an error or misinterpretation.\n",
      "  warnings.warn(\n",
      "C:\\Users\\matth\\anaconda3\\lib\\site-packages\\seaborn\\_decorators.py:36: FutureWarning: Pass the following variables as keyword args: x, y. From version 0.12, the only valid positional argument will be `data`, and passing other arguments without an explicit keyword will result in an error or misinterpretation.\n",
      "  warnings.warn(\n"
     ]
    },
    {
     "data": {
      "image/png": "[encoded data removed]",
      "text/plain": [
       "<Figure size 432x288 with 1 Axes>"
      ]
     },
     "metadata": {
      "needs_background": "light"
     },
     "output_type": "display_data"
    }
   ],
   "source": [
    "# Univariate density functions\n",
    "import seaborn as sns\n",
    "\n",
    "t = np.linspace(-4, 4, 10000)\n",
    "#in order to feed these pts into our dists we need two columns of these pts (repeated- i.e. sending the same pts to each dist\n",
    "# as a cloumn vector!\n",
    "# add new axis - turn it into coulmn vect, then make two of them (np.repaeat(, 2, along column axis)) - easy!\n",
    "# each column is a vector of densities for one distn\n",
    "densities = batch_of_normals.prob(np.repeat(t[:, np.newaxis], 2, axis = 1)) \n",
    "\n",
    "sns.lineplot(t, densities[:, 0], label = 'loc = {}, scale = {}'.format(locs[0], scales[0]))\n",
    "sns.lineplot(t, densities[:, 1], label = 'loc = {}, scale = {}'.format(locs[1], scales[1]))\n",
    "plt.ylabel('Probability density')\n",
    "plt.xlabel('Value')\n",
    "plt.legend()\n",
    "plt.show()"
   ]
  },
  {
   "cell_type": "code",
   "execution_count": 14,
   "metadata": {},
   "outputs": [
    {
     "data": {
      "text/plain": [
       "<tfp.distributions.Normal 'Normal' batch_shape=[2] event_shape=[] dtype=float32>"
      ]
     },
     "execution_count": 14,
     "metadata": {},
     "output_type": "execute_result"
    }
   ],
   "source": [
    "batch_of_normals"
   ]
  },
  {
   "cell_type": "code",
   "execution_count": 16,
   "metadata": {},
   "outputs": [
    {
     "data": {
      "text/plain": [
       "<tfp.distributions.Independent 'IndependentNormal' batch_shape=[] event_shape=[2] dtype=float32>"
      ]
     },
     "execution_count": 16,
     "metadata": {},
     "output_type": "execute_result"
    }
   ],
   "source": [
    "# combine these two univariate gaussians into a bivariate Gaussian with independent components\n",
    "\n",
    "# Use Independent to convert the batch shape to the event shape\n",
    "bivariate_normal_from_Independent = tfd.Independent(batch_of_normals, reinterpreted_batch_ndims = 1)\n",
    "#note:reinterpreted_batch_ndims is the number of rightmost batch dims which will be regarded as event dims.\n",
    "bivariate_normal_from_Independent\n",
    "\n",
    "#now our two univaraiate normals have become one bivariate normal "
   ]
  },
  {
   "cell_type": "code",
   "execution_count": 17,
   "metadata": {},
   "outputs": [
    {
     "name": "stderr",
     "output_type": "stream",
     "text": [
      "C:\\Users\\matth\\anaconda3\\lib\\site-packages\\seaborn\\_decorators.py:36: FutureWarning: Pass the following variables as keyword args: x, y. From version 0.12, the only valid positional argument will be `data`, and passing other arguments without an explicit keyword will result in an error or misinterpretation.\n",
      "  warnings.warn(\n"
     ]
    },
    {
     "data": {
      "text/plain": [
       "<seaborn.axisgrid.JointGrid at 0x1f9db94d910>"
      ]
     },
     "execution_count": 17,
     "metadata": {},
     "output_type": "execute_result"
    },
    {
     "data": {
      "image/png": "[encoded data removed]",
      "text/plain": [
       "<Figure size 432x432 with 3 Axes>"
      ]
     },
     "metadata": {
      "needs_background": "light"
     },
     "output_type": "display_data"
    }
   ],
   "source": [
    "# Create a plot showing joint density contours and marginal density functions\n",
    "samples = bivariate_normal_from_Independent.sample(10000)\n",
    "x1 = samples[:, 0]\n",
    "x2 = samples[:, 1]\n",
    "sns.jointplot(x1, x2, kind = 'kde', space = 0, color = 'b', xlim = [-4, 4], ylim = [-4, 4])"
   ]
  },
  {
   "cell_type": "markdown",
   "metadata": {},
   "source": [
    "### We can use MultivariateNormalDiag to create the equivelent dist!"
   ]
  },
  {
   "cell_type": "code",
   "execution_count": 18,
   "metadata": {},
   "outputs": [
    {
     "data": {
      "text/plain": [
       "<tfp.distributions.MultivariateNormalDiag 'MultivariateNormalDiag' batch_shape=[] event_shape=[2] dtype=float32>"
      ]
     },
     "execution_count": 18,
     "metadata": {},
     "output_type": "execute_result"
    }
   ],
   "source": [
    "# Use MultivariateNormalDiag to create the equivalent distribution\n",
    "\n",
    "# Note that diagonal covariance matrix => no correlation (off-diag are zero (co-variance part)) => independence\n",
    "# (for the multivariate normal distribution)\n",
    "bivariate_normal_from_Multivariate = tfd.MultivariateNormalDiag(loc = locs, scale_diag = scales)\n",
    "bivariate_normal_from_Multivariate"
   ]
  },
  {
   "cell_type": "code",
   "execution_count": 19,
   "metadata": {},
   "outputs": [
    {
     "name": "stderr",
     "output_type": "stream",
     "text": [
      "C:\\Users\\matth\\anaconda3\\lib\\site-packages\\seaborn\\_decorators.py:36: FutureWarning: Pass the following variables as keyword args: x, y. From version 0.12, the only valid positional argument will be `data`, and passing other arguments without an explicit keyword will result in an error or misinterpretation.\n",
      "  warnings.warn(\n"
     ]
    },
    {
     "data": {
      "text/plain": [
       "<seaborn.axisgrid.JointGrid at 0x1f9dcaf5190>"
      ]
     },
     "execution_count": 19,
     "metadata": {},
     "output_type": "execute_result"
    },
    {
     "data": {
      "image/png": "[encoded data removed]",
      "text/plain": [
       "<Figure size 432x432 with 3 Axes>"
      ]
     },
     "metadata": {
      "needs_background": "light"
     },
     "output_type": "display_data"
    }
   ],
   "source": [
    "# Plot the joint density function of bivariate_normal_from_Multivariate - same as bivariate_normal_from_Independent\n",
    "samples = bivariate_normal_from_Multivariate.sample(10000)\n",
    "x1 = samples[:, 0]\n",
    "x2 = samples[:, 1]\n",
    "sns.jointplot(x1, x2, kind = 'kde', space = 0, color = 'b', xlim = [-4, 4], ylim = [-4, 4])"
   ]
  },
  {
   "cell_type": "markdown",
   "metadata": {},
   "source": [
    "### Shifting batch dimensions to event dimensions using reinterpreted_batch_ndims"
   ]
  },
  {
   "cell_type": "code",
   "execution_count": 22,
   "metadata": {},
   "outputs": [
    {
     "data": {
      "text/plain": [
       "<tfp.distributions.Normal 'Normal' batch_shape=[3, 2] event_shape=[] dtype=float32>"
      ]
     },
     "execution_count": 22,
     "metadata": {},
     "output_type": "execute_result"
    }
   ],
   "source": [
    "# By default all batch dims except the first are transferred to event dims\n",
    "loc_grid = [[-100., -100.], [100., 100.], [0., 0.]]\n",
    "scale_grid = [[1., 10.], [1., 10.], [1., 1.]]\n",
    "\n",
    "#both mean matrix and covariance matrix are same dim (3,2) there fore we get (3,2) normals (i.e. 6 normal dists)\n",
    "\n",
    "\n",
    "normals_batch_3by2_event_1 = tfd.Normal(loc = loc_grid, scale = scale_grid)\n",
    "normals_batch_3by2_event_1\n",
    "#batch_shape is [3,2] meaning we have six normal dists in our batch"
   ]
  },
  {
   "cell_type": "code",
   "execution_count": 24,
   "metadata": {},
   "outputs": [
    {
     "data": {
      "text/plain": [
       "<tfp.distributions.Independent 'IndependentNormal' batch_shape=[3] event_shape=[2] dtype=float32>"
      ]
     },
     "execution_count": 24,
     "metadata": {},
     "output_type": "execute_result"
    }
   ],
   "source": [
    "# now we use reinterpreted_batch_ndims to shift all but the first batch_dim to the evnt_dims\n",
    "normals_batch_3_event_2 = tfd.Independent(normals_batch_3by2_event_1)\n",
    "normals_batch_3_event_2\n",
    "\n",
    "# We now have a batch of 3 bivariate normal distributions,\n",
    "# each parametrised by a row of our original parameter grid"
   ]
  },
  {
   "cell_type": "code",
   "execution_count": 29,
   "metadata": {},
   "outputs": [
    {
     "data": {
      "text/plain": [
       "<tf.Tensor: shape=(3,), dtype=float32, numpy=array([-4.1146406e+03, -4.1404624e+00, -2.8378770e+00], dtype=float32)>"
      ]
     },
     "execution_count": 29,
     "metadata": {},
     "output_type": "execute_result"
    }
   ],
   "source": [
    "# Evaluate log_prob\n",
    "normals_batch_3_event_2.log_prob(value = [[-10., 10.], [100., 100.], [1., 1.]])\n",
    "\n",
    "#each of dist gives a scaler for the log_prob and since we have 3 dists we get (3,) shape"
   ]
  },
  {
   "cell_type": "code",
   "execution_count": 28,
   "metadata": {},
   "outputs": [
    {
     "data": {
      "text/plain": [
       "<tfp.distributions.Independent 'IndependentNormal' batch_shape=[] event_shape=[3, 2] dtype=float32>"
      ]
     },
     "execution_count": 28,
     "metadata": {},
     "output_type": "execute_result"
    }
   ],
   "source": [
    "# Can reinterpret _all_ batch dimensions as event dimensions\n",
    "normals_batch_1_event_3by2 = tfd.Independent(normals_batch_3by2_event_1, reinterpreted_batch_ndims = 2)\n",
    "normals_batch_1_event_3by2\n",
    "\n",
    "#now we have empty batch_shape\n",
    "#hence we have one dist with an event shape of [3,2]"
   ]
  },
  {
   "cell_type": "code",
   "execution_count": 31,
   "metadata": {},
   "outputs": [
    {
     "data": {
      "text/plain": [
       "<tf.Tensor: shape=(), dtype=float32, numpy=-4121.619>"
      ]
     },
     "execution_count": 31,
     "metadata": {},
     "output_type": "execute_result"
    }
   ],
   "source": [
    "# Evaluate log_prob\n",
    "normals_batch_1_event_3by2.log_prob(value = [[-10., 10.], [100., 100.], [1., 1.]])\n",
    "\n",
    "#now we get just a single scaler - one dist with event_shape (3,2) - we feed in a (3,2) test_pts"
   ]
  },
  {
   "cell_type": "markdown",
   "metadata": {},
   "source": [
    "# Bijectors \n",
    "\n",
    "In this section we will look at bijectors, which are another fundamental building block in TensorFlow Probability. Bijectors constitute the invertible and differentiable **transformations** that we will use to construct normalising flows (ie transform random vairables). The [bijectors module](https://www.tensorflow.org/probability/api_docs/python/tfp/bijectors) has a range of in-built bijector functions, which can be composed to make complex transformations."
   ]
  },
  {
   "cell_type": "code",
   "execution_count": 3,
   "metadata": {},
   "outputs": [],
   "source": [
    "import tensorflow as tf\n",
    "import tensorflow_probability as tfp\n",
    "tfd = tfp.distributions\n",
    "tfb = tfp.bijectors"
   ]
  },
  {
   "cell_type": "markdown",
   "metadata": {},
   "source": [
    "Two simple bijectors are the `Scale` and `Shift` bijectors. which do what they say on the tin!"
   ]
  },
  {
   "cell_type": "code",
   "execution_count": 6,
   "metadata": {},
   "outputs": [],
   "source": [
    "# CREATE Scale and Shift bijectors\n",
    "\n",
    "scale = tfb.Scale(3.0) #scale by const (multiply by 3)\n",
    "shift = tfb.Shift(-5) # shift by const (add -5)"
   ]
  },
  {
   "cell_type": "code",
   "execution_count": 7,
   "metadata": {},
   "outputs": [],
   "source": [
    "# Draw samples from a standard Normal distribution\n",
    "\n",
    "normal = tfd.Normal(loc=0, scale=1.)\n",
    "z = normal.sample(1000)"
   ]
  },
  {
   "cell_type": "markdown",
   "metadata": {},
   "source": [
    "* `.forward()` method computes the (forward) bijector ------> X = g(Y)\n",
    "\n",
    "* `.inverse()` method computes the inverse (undoes the bijector) ------> X = g-1(Y))"
   ]
  },
  {
   "cell_type": "code",
   "execution_count": 8,
   "metadata": {},
   "outputs": [],
   "source": [
    "# Pass the samples through the forward method of each bijector\n",
    "\n",
    "#forms a chain:\n",
    "h=scale.forward(z) # scale normal\n",
    "x=shift.forward(h) #shift result of scaled normal "
   ]
  },
  {
   "cell_type": "code",
   "execution_count": 10,
   "metadata": {},
   "outputs": [
    {
     "data": {
      "image/png": "[encoded data removed]",
      "text/plain": [
       "<Figure size 936x288 with 2 Axes>"
      ]
     },
     "metadata": {
      "needs_background": "light"
     },
     "output_type": "display_data"
    }
   ],
   "source": [
    "# Plot the original and transformed samples\n",
    "\n",
    "import matplotlib.pyplot as plt\n",
    "\n",
    "fig = plt.figure(figsize=(13, 4))\n",
    "\n",
    "plt.subplot(1, 2, 1)\n",
    "plt.hist(z.numpy(), bins=50)\n",
    "plt.title(\"Original samples\")\n",
    "\n",
    "plt.subplot(1, 2, 2)\n",
    "plt.hist(x.numpy(), bins=50)\n",
    "plt.title(\"Transformed samples\")\n",
    "plt.show()\n",
    "\n",
    "# transformed samples have been scaled by 3 (rem: standard normal so mean is 0 hence scaling decimals - thats why\n",
    "# little difference in width (spread) of dist) AND shifted by -5 (i.e added -5 to each pt)"
   ]
  },
  {
   "cell_type": "markdown",
   "metadata": {},
   "source": [
    "The `Chain` method creates a Bijector which applies a sequence of bijectors!"
   ]
  },
  {
   "cell_type": "code",
   "execution_count": 11,
   "metadata": {},
   "outputs": [],
   "source": [
    "# Chain the bijectors together\n",
    "\n",
    "scale_and_shift_chain = tfb.Chain([shift, scale]) \n",
    "# chain bijector applied in reverse order!! scale then shift\n",
    "\n",
    "#another way is to composite them !! though a bit dodge \n",
    "scale_and_shift_composite = shift(scale)\n",
    "\n"
   ]
  },
  {
   "cell_type": "code",
   "execution_count": 13,
   "metadata": {},
   "outputs": [
    {
     "data": {
      "image/png": "[encoded data removed]",
      "text/plain": [
       "<Figure size 432x288 with 1 Axes>"
      ]
     },
     "metadata": {
      "needs_background": "light"
     },
     "output_type": "display_data"
    }
   ],
   "source": [
    "# Pass the transformed samples through the reverse method of each bijector\n",
    "\n",
    "x_inv = scale_and_shift_chain.inverse(x)\n",
    "plt.hist(x_inv.numpy(), bins=50)\n",
    "plt.show()\n",
    "\n",
    "## we have obtained the original z !!"
   ]
  },
  {
   "cell_type": "markdown",
   "metadata": {},
   "source": [
    "### We can create a Batch of bijectors"
   ]
  },
  {
   "cell_type": "code",
   "execution_count": 28,
   "metadata": {},
   "outputs": [
    {
     "data": {
      "text/plain": [
       "{'temperature': [0.01, 0.1, 1.0], 'validate_args': False, 'name': 'softfloor'}"
      ]
     },
     "execution_count": 28,
     "metadata": {},
     "output_type": "execute_result"
    }
   ],
   "source": [
    "# Create a batched Softfloor bijector\n",
    "\n",
    "softfloor = tfb.Softfloor(temperature = [0.01, 0.1, 1.])\n",
    "#this bijector operates on a scaler event space\n",
    "# it Compute a differentiable approximation to tf.math.floor (floor function is a step function which drops decimals down\n",
    "#i.e. 0.5 => 0 , 1.5 => 1. but floor fun is step => not differentiable!) the smaller the temp the closer it is to step\n",
    "softfloor.parameters"
   ]
  },
  {
   "cell_type": "code",
   "execution_count": 26,
   "metadata": {},
   "outputs": [
    {
     "data": {
      "text/plain": [
       "TensorShape([1000, 3])"
      ]
     },
     "execution_count": 26,
     "metadata": {},
     "output_type": "execute_result"
    }
   ],
   "source": [
    "# Pass some test points through the bijector\n",
    "import numpy as np \n",
    "\n",
    "test_pts = np.linspace(-2, 2, 1000)\n",
    "transformed_pts = softfloor(test_pts[..., tf.newaxis])\n",
    "\n",
    "#have to add new axis to prevent broadcasting error (shapes dont match)\n",
    "# we have to pass our test_pts through as a column vector - such that broadcasting works\n",
    "#1000x1 (test_pts)\n",
    "#1x3\n",
    "#broadcast\n",
    "#1000x3\n",
    "\n",
    "transformed_pts.shape"
   ]
  },
  {
   "cell_type": "code",
   "execution_count": 27,
   "metadata": {},
   "outputs": [
    {
     "data": {
      "image/png": "[encoded data removed]",
      "text/plain": [
       "<Figure size 864x360 with 1 Axes>"
      ]
     },
     "metadata": {
      "needs_background": "light"
     },
     "output_type": "display_data"
    }
   ],
   "source": [
    "# Plot the transformed samples\n",
    "\n",
    "plt.figure(figsize=(12, 5))\n",
    "plt.plot(test_pts, transformed_pts[:, 0], label='temperature=0.01')\n",
    "plt.plot(test_pts, transformed_pts[:, 1], label='temperature=0.1')\n",
    "plt.plot(test_pts, transformed_pts[:, 2], label='temperature=1.')\n",
    "plt.legend()\n",
    "plt.show()\n",
    "\n",
    "#we have each of "
   ]
  },
  {
   "cell_type": "markdown",
   "metadata": {},
   "source": [
    "### Computing the log_probs - change of variables formula!"
   ]
  },
  {
   "cell_type": "code",
   "execution_count": 32,
   "metadata": {},
   "outputs": [],
   "source": [
    "# Draw samples from a standard Normal distribution\n",
    "\n",
    "normal = tfd.Normal(loc=0, scale=1.)\n",
    "z = normal.sample(1000)"
   ]
  },
  {
   "cell_type": "code",
   "execution_count": 33,
   "metadata": {},
   "outputs": [],
   "source": [
    "# Create an Exp bijector - Compute Y = g(X) = exp(X).\n",
    "exp = tfb.Exp()\n",
    "\n",
    "# Compute the exp of the standard Normal samples - feed in our pts z\n",
    "x = exp.forward(z)"
   ]
  },
  {
   "cell_type": "markdown",
   "metadata": {},
   "source": [
    "Recall the change of variables formula:\n",
    "\n",
    "$$\n",
    "\\log p_X(\\mathbf{x}) = \\log p_Z(\\mathbf{z}) - \\log \\hspace{0.1ex}\\left|\\det J_f(\\mathbf{z}) \\right|\n",
    "$$"
   ]
  },
  {
   "cell_type": "markdown",
   "metadata": {},
   "source": [
    "**The change of variables formula tells us how to compute the probability density function of a random variable under a smooth invertible transformation.**\n",
    "\n",
    "\n",
    "a reminder of whats going on =:\n",
    "\n",
    "* our original (simple) dist which has p.d.f of Z (which is std Normal in this case)\n",
    "* we create our transformation, f, (a bijector) which will take our orignial simple dist (normal) and transform to a complicated dist X. Our dist (bijector) is the exp dist in this case. note: the complicated dist is something we dont know yet but can get too via transoformation (I think)\n",
    "* so the change of variables formalua tells you how to transform form the simple distribution to complaicated distribution.\n",
    "\n",
    "We want the log of our complicated dist (evaluated at pts x)\n",
    "\n",
    "which is equal to the log of our simple dist evaluated at the pts z (**pts z are sample drawn from our simple dist**) \\\n",
    "minus \\\n",
    "the log of the det of the jacobian of the transformation f (s.t X=f(Z) - which is our exponental dist) evaluated at z (remember `.forward()` means the bijector, `.inverse()` is the inverse"
   ]
  },
  {
   "cell_type": "code",
   "execution_count": 37,
   "metadata": {},
   "outputs": [
    {
     "data": {
      "text/plain": [
       "TensorShape([1000])"
      ]
     },
     "execution_count": 37,
     "metadata": {},
     "output_type": "execute_result"
    }
   ],
   "source": [
    "# Use log_det_jacobian to compute log_probs of transformed samples\n",
    "\n",
    "logprob_x = normal.log_prob(z) - exp.forward_log_det_jacobian(z, event_ndims=0) #bijectors have method to calulate jacobian\n",
    "logprob_x.shape\n",
    "\n",
    "#we expect a 1000 elm array - since we are calucluating the .prob() which is grad of cdf - a scalar and taking log of that\n",
    "#for each pt in our 1000 test_pts"
   ]
  },
  {
   "cell_type": "markdown",
   "metadata": {},
   "source": [
    "And using the inverse transformation:\n",
    "\n",
    "$$\n",
    "\\log p_X(\\mathbf{x}) = \\log p_Z(\\mathbf{z}) + \\log \\hspace{0.1ex}\\left|\\det J_{f^{-1}}(\\mathbf{x}) \\right|\n",
    "$$"
   ]
  },
  {
   "cell_type": "code",
   "execution_count": 38,
   "metadata": {},
   "outputs": [
    {
     "data": {
      "text/plain": [
       "True"
      ]
     },
     "execution_count": 38,
     "metadata": {},
     "output_type": "execute_result"
    }
   ],
   "source": [
    "# Repeat the calculation with the inverse_log_det_jacobian\n",
    "\n",
    "logprob_x2 = normal.log_prob(z) + exp.inverse_log_det_jacobian(x, event_ndims=0) #bijectors method to calulate inverse jacob\n",
    "\n",
    "\n",
    "#check if they are the same\n",
    "np.allclose(logprob_x, logprob_x2)"
   ]
  },
  {
   "cell_type": "markdown",
   "metadata": {},
   "source": [
    "#### The TransformedDistribution\n",
    "The `TransformedDistribution` class provides a consistent API for **distributions defined by bijectors and base distributions.**"
   ]
  },
  {
   "cell_type": "code",
   "execution_count": 42,
   "metadata": {},
   "outputs": [
    {
     "data": {
      "text/plain": [
       "True"
      ]
     },
     "execution_count": 42,
     "metadata": {},
     "output_type": "execute_result"
    }
   ],
   "source": [
    "# Define the log-normal distribution with TransformedDistribution\n",
    "\n",
    "transformed_normal = tfd.TransformedDistribution(distribution=normal, bijector=exp)\n",
    "\n",
    "# same as \n",
    "\n",
    "# transformed distribution using exp and normal bijectors - i.e ytraking our normal and tranforming it via exp bijector\n",
    "# this distribution is called a log-normal (exp of a normal!!)\n",
    "log_normal_td = exp(normal)\n",
    "\n",
    "\n",
    "# Confirm the log-probs of the transformed samples are the same as under a log-normal distribution\n",
    "np.allclose(transformed_normal.log_prob(x), log_normal_td.log_prob(x))"
   ]
  },
  {
   "cell_type": "markdown",
   "metadata": {},
   "source": [
    "The `TransformedDistribution` constructor also has `batch_shape` and `event_shape` arguments that can be used when the corresponding base distribution shape is empty."
   ]
  },
  {
   "cell_type": "code",
   "execution_count": 5,
   "metadata": {},
   "outputs": [
    {
     "data": {
      "text/plain": [
       "<tfp.distributions.TransformedDistribution 'softfloorNormal' batch_shape=[3] event_shape=[] dtype=float32>"
      ]
     },
     "execution_count": 5,
     "metadata": {},
     "output_type": "execute_result"
    }
   ],
   "source": [
    "# Create a TransformedDistribution from a batched bijector\n",
    "\n",
    "softfloor = tfb.Softfloor(temperature=[0.01, 0.1, 1.]) #<--- batch_shape = 3\n",
    "normal = tfd.Normal(loc=0., scale=1.) # <--- empty batch and event shape - just a univariate normal\n",
    "\n",
    "# normal has empty batch and event shape but the bijector has a batch shape of 3. \n",
    "#so we have to define batch_shape or event_shape arg so that the transformeddistribution can interpret the \n",
    "#extra dims it is getting from the bijector!\n",
    "trans_dist = tfd.TransformedDistribution(normal, softfloor, batch_shape=[3])\n",
    "trans_dist"
   ]
  },
  {
   "cell_type": "code",
   "execution_count": 12,
   "metadata": {},
   "outputs": [
    {
     "name": "stdout",
     "output_type": "stream",
     "text": [
      "Sample: tf.Tensor([ 1.         -0.37324846 -0.9532184 ], shape=(3,), dtype=float32)\n",
      "log_prob: tf.Tensor([ 34.35089   -8.346569 -11.002614], shape=(3,), dtype=float32)\n"
     ]
    }
   ],
   "source": [
    "#examples\n",
    "print('Sample:', trans_dist.sample())\n",
    "print('log_prob:', trans_dist.log_prob(4))"
   ]
  },
  {
   "cell_type": "markdown",
   "metadata": {},
   "source": [
    "`tfb.FillScaleTriL()` Transforms unconstrained vectors to TriL matrices (lower triangluar matrix) with positive diagonal."
   ]
  },
  {
   "cell_type": "code",
   "execution_count": 14,
   "metadata": {},
   "outputs": [
    {
     "data": {
      "text/plain": [
       "<tf.Tensor: shape=(2, 3, 3), dtype=float32, numpy=\n",
       "array([[[ 0.95338726,  0.        ,  0.        ],\n",
       "        [ 0.83799636,  1.0967792 ,  0.        ],\n",
       "        [ 0.02764363, -0.77291757,  0.60039145]],\n",
       "\n",
       "       [[ 1.0749294 ,  0.        ,  0.        ],\n",
       "        [ 0.64208335,  0.5488217 ,  0.        ],\n",
       "        [-0.11198012,  0.7284919 ,  0.47451457]]], dtype=float32)>"
      ]
     },
     "execution_count": 14,
     "metadata": {},
     "output_type": "execute_result"
    }
   ],
   "source": [
    "# Set a scaling lower triangular matrix\n",
    "\n",
    "fill_tril = tfb.FillScaleTriL()\n",
    "scale_tril = fill_tril(tf.random.normal((2, 6))) #<-- 2 is batch, 6 is num of elm in lower tri\n",
    "scale_tril"
   ]
  },
  {
   "cell_type": "markdown",
   "metadata": {},
   "source": [
    "`ScaleMatvecTriL()`Compute Y = g(X; scale) = scale @ X."
   ]
  },
  {
   "cell_type": "code",
   "execution_count": 15,
   "metadata": {},
   "outputs": [],
   "source": [
    "# Define a bijector that operates on a rank >= 1 event space\n",
    "\n",
    "scale_matvec_tril = tfb.ScaleMatvecTriL(scale_tril)"
   ]
  },
  {
   "cell_type": "code",
   "execution_count": 24,
   "metadata": {},
   "outputs": [
    {
     "name": "stdout",
     "output_type": "stream",
     "text": [
      "tfp.distributions.TransformedDistribution(\"scale_matvec_trilNormal\", batch_shape=[2], event_shape=[3], dtype=float32)\n",
      "tfp.distributions.TransformedDistribution(\"scale_matvec_trilMultivariateNormalDiag\", batch_shape=[2], event_shape=[3], dtype=float32)\n"
     ]
    }
   ],
   "source": [
    "# Define TransformedDistribution with a batch and event shape\n",
    "\n",
    "normal = tfd.Normal(loc=0., scale=1.)\n",
    "mvn_tril_norm = tfd.TransformedDistribution(normal, scale_matvec_tril, batch_shape=[2], event_shape=[3])\n",
    "#we are applying our scale_matvec_tril (bijector) to our normal dist and deifning the \n",
    "print(mvn_tril_norm)\n",
    "\n",
    "\n",
    "# another way would be to \n",
    "mv_normal = tfd.MultivariateNormalDiag(loc=[0., 0., 0.], scale_diag=[1., 1., 1.])\n",
    "mvn_tril_normdiag = tfd.TransformedDistribution(mv_normal, scale_matvec_tril, batch_shape=[2])\n",
    "#we dont speficy event shape as mv_normal has a event shape but we still specify batch shape for bijector\n",
    "print(mvn_tril_normdiag)"
   ]
  },
  {
   "cell_type": "code",
   "execution_count": 27,
   "metadata": {},
   "outputs": [
    {
     "data": {
      "text/plain": [
       "<tf.Tensor: shape=(2, 3), dtype=float32, numpy=\n",
       "array([[ 1.6079714 ,  0.7753429 ,  1.5383224 ],\n",
       "       [ 0.42480573,  0.5844168 , -0.39725563]], dtype=float32)>"
      ]
     },
     "execution_count": 27,
     "metadata": {},
     "output_type": "execute_result"
    }
   ],
   "source": [
    "# Sample from the transformed distribution\n",
    "\n",
    "mvn_tril_norm.sample()"
   ]
  },
  {
   "cell_type": "markdown",
   "metadata": {},
   "source": [
    "## Exercise\n",
    "\n",
    "Construct the distribution $\\mathcal{N}(\\mu, \\Sigma)$, where $\\mu = [0.5, -0.5]^T$ and $\\Sigma = \\left[\\begin{array}{cc} 2 & 1\\\\ 1 & 2\\end{array}\\right]$, first using a `tfd.MultivariateNormalTriL` object, and then using a `tfd.TransformedDistribution` object with a `tfd.Normal(loc=0., scale=1.)` as a base distribution. Verify that the two representations are mathematically equivalent by computing log probs on a given sample."
   ]
  },
  {
   "cell_type": "code",
   "execution_count": 153,
   "metadata": {},
   "outputs": [
    {
     "name": "stdout",
     "output_type": "stream",
     "text": [
      "tf.Tensor(\n",
      "[[1.4142135  0.        ]\n",
      " [0.70710677 1.2247449 ]], shape=(2, 2), dtype=float32)\n",
      "tf.Tensor(\n",
      "[[1.9999999  0.99999994]\n",
      " [0.99999994 2.        ]], shape=(2, 2), dtype=float32)\n"
     ]
    },
    {
     "data": {
      "text/plain": [
       "<tfp.distributions.MultivariateNormalTriL 'MultivariateNormalTriL' batch_shape=[] event_shape=[2] dtype=float32>"
      ]
     },
     "execution_count": 153,
     "metadata": {},
     "output_type": "execute_result"
    }
   ],
   "source": [
    "sigma = [[2., 1.],\n",
    "         [1., 2.]]\n",
    "# Compute the lower triangular matrix L from the Cholesky decomposition\n",
    "scale_tril = tf.linalg.cholesky(sigma)\n",
    "print(scale_tril)\n",
    "# Check that LL^T = Sigma\n",
    "print(tf.linalg.matmul(scale_tril, tf.transpose(scale_tril)))\n",
    "\n",
    "mv_normal = tfd.MultivariateNormalTriL(loc=[0.5, -0.5], scale_tril= scale_tril)\n",
    "mv_normal\n",
    "\n",
    "#yes so we have our bi-variate normal"
   ]
  },
  {
   "cell_type": "code",
   "execution_count": 155,
   "metadata": {},
   "outputs": [
    {
     "data": {
      "text/plain": [
       "<tfp.distributions.TransformedDistribution 'scale_matvec_trilNormal' batch_shape=[] event_shape=[2] dtype=float32>"
      ]
     },
     "execution_count": 155,
     "metadata": {},
     "output_type": "execute_result"
    }
   ],
   "source": [
    "scale_matvec_tril = tfb.ScaleMatvecTriL(scale_tril) #<--- scaled it by scale_tril ALSO NEED TO SCALE BY MEANS !!!\n",
    "normal = tfd.Normal(loc=0., scale=1.)\n",
    "mvn_tril_normdiag = tfd.TransformedDistribution(normal, scale_matvec_tril, event_shape=[2])\n",
    "mvn_tril_normdiag"
   ]
  },
  {
   "cell_type": "code",
   "execution_count": 156,
   "metadata": {},
   "outputs": [],
   "source": [
    "test_sample = tf.random.normal((2,))"
   ]
  },
  {
   "cell_type": "code",
   "execution_count": 157,
   "metadata": {},
   "outputs": [
    {
     "data": {
      "text/plain": [
       "<tf.Tensor: shape=(), dtype=float32, numpy=-2.6269617>"
      ]
     },
     "execution_count": 157,
     "metadata": {},
     "output_type": "execute_result"
    }
   ],
   "source": [
    "mv_normal.log_prob(test_sample)"
   ]
  },
  {
   "cell_type": "code",
   "execution_count": 158,
   "metadata": {},
   "outputs": [
    {
     "data": {
      "text/plain": [
       "<tf.Tensor: shape=(), dtype=float32, numpy=-2.8917184>"
      ]
     },
     "execution_count": 158,
     "metadata": {},
     "output_type": "execute_result"
    }
   ],
   "source": [
    "mvn_tril_normdiag.log_prob(test_sample) ## not sure here!!! NEED TO WORK OUT HOW TO SCALE BY MEANS TOO!! MAYBE USING CHAIN?"
   ]
  },
  {
   "cell_type": "code",
   "execution_count": null,
   "metadata": {},
   "outputs": [],
   "source": []
  }
 ],
 "metadata": {
  "kernelspec": {
   "display_name": "Python 3",
   "language": "python",
   "name": "python3"
  },
  "language_info": {
   "codemirror_mode": {
    "name": "ipython",
    "version": 3
   },
   "file_extension": ".py",
   "mimetype": "text/x-python",
   "name": "python",
   "nbconvert_exporter": "python",
   "pygments_lexer": "ipython3",
   "version": "3.8.3"
  }
 },
 "nbformat": 4,
 "nbformat_minor": 4
}
